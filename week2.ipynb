{
 "cells": [
  {
   "cell_type": "markdown",
   "id": "f295af3b",
   "metadata": {},
   "source": [
    "# Dictionary"
   ]
  },
  {
   "cell_type": "code",
   "execution_count": 1,
   "id": "e19519f7",
   "metadata": {},
   "outputs": [
    {
     "data": {
      "text/plain": [
       "{'a': 'some string', 'b': [1, 2, 3, 4]}"
      ]
     },
     "execution_count": 1,
     "metadata": {},
     "output_type": "execute_result"
    }
   ],
   "source": [
    "empty_dict = {}\n",
    "d1 = {\"a\" : \"some string\" , \"b\":[1,2,3,4]}\n",
    "d1"
   ]
  },
  {
   "cell_type": "code",
   "execution_count": 2,
   "id": "5c64fc48",
   "metadata": {},
   "outputs": [],
   "source": [
    "d1[7] = \"an integer\""
   ]
  },
  {
   "cell_type": "markdown",
   "id": "5f5bd206",
   "metadata": {},
   "source": [
    "### adding an element in the dictionary"
   ]
  },
  {
   "cell_type": "code",
   "execution_count": 3,
   "id": "6b09e18d",
   "metadata": {},
   "outputs": [
    {
     "data": {
      "text/plain": [
       "{'a': 'some string', 'b': [1, 2, 3, 4], 7: 'an integer'}"
      ]
     },
     "execution_count": 3,
     "metadata": {},
     "output_type": "execute_result"
    }
   ],
   "source": [
    "d1"
   ]
  },
  {
   "cell_type": "code",
   "execution_count": 4,
   "id": "5b343dd6",
   "metadata": {},
   "outputs": [
    {
     "data": {
      "text/plain": [
       "[1, 2, 3, 4]"
      ]
     },
     "execution_count": 4,
     "metadata": {},
     "output_type": "execute_result"
    }
   ],
   "source": [
    "d1[\"b\"]"
   ]
  },
  {
   "cell_type": "markdown",
   "id": "5ce95954",
   "metadata": {},
   "source": [
    "### checking for element in dictionary"
   ]
  },
  {
   "cell_type": "code",
   "execution_count": 5,
   "id": "0e2d7a99",
   "metadata": {},
   "outputs": [
    {
     "data": {
      "text/plain": [
       "True"
      ]
     },
     "execution_count": 5,
     "metadata": {},
     "output_type": "execute_result"
    }
   ],
   "source": [
    "\"b\" in d1"
   ]
  },
  {
   "cell_type": "code",
   "execution_count": 6,
   "id": "ba40fb1c",
   "metadata": {},
   "outputs": [
    {
     "data": {
      "text/plain": [
       "{'a': 'some string', 'b': [1, 2, 3, 4], 7: 'an integer', 5: 'some value'}"
      ]
     },
     "execution_count": 6,
     "metadata": {},
     "output_type": "execute_result"
    }
   ],
   "source": [
    "d1[5] = \"some value\"\n",
    "d1"
   ]
  },
  {
   "cell_type": "code",
   "execution_count": 7,
   "id": "0d5cde32",
   "metadata": {},
   "outputs": [
    {
     "data": {
      "text/plain": [
       "{'a': 'some string',\n",
       " 'b': [1, 2, 3, 4],\n",
       " 7: 'an integer',\n",
       " 5: 'some value',\n",
       " 'dummy': 'another value'}"
      ]
     },
     "execution_count": 7,
     "metadata": {},
     "output_type": "execute_result"
    }
   ],
   "source": [
    "d1[\"dummy\"] = \"another value\"\n",
    "d1"
   ]
  },
  {
   "cell_type": "code",
   "execution_count": 8,
   "id": "4fab03b4",
   "metadata": {},
   "outputs": [],
   "source": [
    "del d1[5] ## deletes the key and value "
   ]
  },
  {
   "cell_type": "code",
   "execution_count": 9,
   "id": "b2b8c839",
   "metadata": {},
   "outputs": [
    {
     "data": {
      "text/plain": [
       "{'a': 'some string',\n",
       " 'b': [1, 2, 3, 4],\n",
       " 7: 'an integer',\n",
       " 'dummy': 'another value'}"
      ]
     },
     "execution_count": 9,
     "metadata": {},
     "output_type": "execute_result"
    }
   ],
   "source": [
    "d1\n"
   ]
  },
  {
   "cell_type": "code",
   "execution_count": 10,
   "id": "90f91ae8",
   "metadata": {},
   "outputs": [],
   "source": [
    "ret = d1.pop(\"dummy\") ## removes the element from the dictoinary and stores it in the variable"
   ]
  },
  {
   "cell_type": "code",
   "execution_count": 11,
   "id": "b4ebff5e",
   "metadata": {},
   "outputs": [
    {
     "data": {
      "text/plain": [
       "'another value'"
      ]
     },
     "execution_count": 11,
     "metadata": {},
     "output_type": "execute_result"
    }
   ],
   "source": [
    "ret"
   ]
  },
  {
   "cell_type": "code",
   "execution_count": 12,
   "id": "a2373184",
   "metadata": {},
   "outputs": [
    {
     "data": {
      "text/plain": [
       "['some string', [1, 2, 3, 4], 'an integer']"
      ]
     },
     "execution_count": 12,
     "metadata": {},
     "output_type": "execute_result"
    }
   ],
   "source": [
    "list(d1.values()) # converts the values to a list"
   ]
  },
  {
   "cell_type": "code",
   "execution_count": 13,
   "id": "051d39f0",
   "metadata": {},
   "outputs": [
    {
     "data": {
      "text/plain": [
       "['a', 'b', 7]"
      ]
     },
     "execution_count": 13,
     "metadata": {},
     "output_type": "execute_result"
    }
   ],
   "source": [
    "list(d1.keys()) # converts the keys to a lisst"
   ]
  },
  {
   "cell_type": "code",
   "execution_count": 14,
   "id": "e05dd9d6",
   "metadata": {},
   "outputs": [
    {
     "data": {
      "text/plain": [
       "[('a', 'some string'), ('b', [1, 2, 3, 4]), (7, 'an integer')]"
      ]
     },
     "execution_count": 14,
     "metadata": {},
     "output_type": "execute_result"
    }
   ],
   "source": [
    "list(d1.items()) ## converts the entire dictionary to list"
   ]
  },
  {
   "cell_type": "code",
   "execution_count": 15,
   "id": "c52df33d",
   "metadata": {},
   "outputs": [],
   "source": [
    "d1.update({\"b\" : \"foo\"  , \"c\":12}) #merges this to the dictionary"
   ]
  },
  {
   "cell_type": "code",
   "execution_count": 16,
   "id": "f027fa82",
   "metadata": {},
   "outputs": [
    {
     "data": {
      "text/plain": [
       "{'a': 'some string', 'b': 'foo', 7: 'an integer', 'c': 12}"
      ]
     },
     "execution_count": 16,
     "metadata": {},
     "output_type": "execute_result"
    }
   ],
   "source": [
    "d1"
   ]
  },
  {
   "cell_type": "code",
   "execution_count": 17,
   "id": "20542af0",
   "metadata": {},
   "outputs": [
    {
     "data": {
      "text/plain": [
       "{'a': 'some string', 'b': 'foo', 7: 'an integer', 'c': 12}"
      ]
     },
     "execution_count": 17,
     "metadata": {},
     "output_type": "execute_result"
    }
   ],
   "source": [
    "d1.update({\"b\": \"foo\", \"c\": 12})\n",
    "d1"
   ]
  },
  {
   "cell_type": "code",
   "execution_count": 18,
   "id": "06c42486",
   "metadata": {},
   "outputs": [
    {
     "name": "stdout",
     "output_type": "stream",
     "text": [
      "<zip object at 0x0000024254635D00>\n",
      "{0: 4, 1: 3, 2: 2, 3: 1, 4: 0}\n"
     ]
    }
   ],
   "source": [
    "tuples = zip(range(5), reversed(range(5)))\n",
    "print(tuples)\n",
    "mapping = dict(tuples)\n",
    "print(mapping)\n",
    "## creates a dictionary from a tuple"
   ]
  },
  {
   "cell_type": "code",
   "execution_count": 21,
   "id": "b4330ca8",
   "metadata": {},
   "outputs": [],
   "source": [
    "words = [\"apple\" , \"bat\" ,\"bar\" , \"atom\" ,\"book\"]\n",
    "by_letter = {}\n",
    "for word in words:\n",
    "    letter = word[0]\n",
    "    if letter not in by_letter:\n",
    "        by_letter[letter] = [word]\n",
    "    else:\n",
    "        by_letter[letter].append(word)\n",
    "        \n",
    "   ### logic for converting it into dictionary by first letter"
   ]
  },
  {
   "cell_type": "code",
   "execution_count": 22,
   "id": "08ddc04e",
   "metadata": {},
   "outputs": [
    {
     "data": {
      "text/plain": [
       "{'a': ['apple', 'atom'], 'b': ['bat', 'bar', 'book']}"
      ]
     },
     "execution_count": 22,
     "metadata": {},
     "output_type": "execute_result"
    }
   ],
   "source": [
    "by_letter "
   ]
  },
  {
   "cell_type": "code",
   "execution_count": 23,
   "id": "d1744861",
   "metadata": {},
   "outputs": [],
   "source": [
    " by_letter = {}\n",
    " for word in words:\n",
    "    letter = word[0]\n",
    "    by_letter.setdefault(letter, []).append(word)\n",
    " by_letter\n",
    " {'a': ['apple', 'atom'], 'b': ['bat', 'bar', 'book']}\n",
    " from collections import defaultdict\n",
    " by_letter = defaultdict(list)\n",
    " for word in words:\n",
    "    by_letter[word[0]].append(word)"
   ]
  },
  {
   "cell_type": "code",
   "execution_count": 24,
   "id": "dc8f1e04",
   "metadata": {},
   "outputs": [
    {
     "data": {
      "text/plain": [
       "defaultdict(list, {'a': ['apple', 'atom'], 'b': ['bat', 'bar', 'book']})"
      ]
     },
     "execution_count": 24,
     "metadata": {},
     "output_type": "execute_result"
    }
   ],
   "source": [
    "by_letter"
   ]
  },
  {
   "cell_type": "markdown",
   "id": "4c77bdc3",
   "metadata": {},
   "source": [
    "## Valid dict key types"
   ]
  },
  {
   "cell_type": "code",
   "execution_count": 25,
   "id": "2f33ade8",
   "metadata": {},
   "outputs": [
    {
     "data": {
      "text/plain": [
       "7440626441256278713"
      ]
     },
     "execution_count": 25,
     "metadata": {},
     "output_type": "execute_result"
    }
   ],
   "source": [
    "hash(\"string\")"
   ]
  },
  {
   "cell_type": "code",
   "execution_count": 27,
   "id": "75ada680",
   "metadata": {},
   "outputs": [
    {
     "data": {
      "text/plain": [
       "-9209053662355515447"
      ]
     },
     "execution_count": 27,
     "metadata": {},
     "output_type": "execute_result"
    }
   ],
   "source": [
    "hash((1,2,(2,3)))"
   ]
  },
  {
   "cell_type": "code",
   "execution_count": 29,
   "id": "ebdc5716",
   "metadata": {},
   "outputs": [],
   "source": [
    "# hash(1,2,[3,4]) FAILS BECAUSE LISTS ARE NOT MUTABLE"
   ]
  },
  {
   "cell_type": "code",
   "execution_count": 31,
   "id": "153ef40d",
   "metadata": {},
   "outputs": [
    {
     "data": {
      "text/plain": [
       "{(1, 2, 3): 5}"
      ]
     },
     "execution_count": 31,
     "metadata": {},
     "output_type": "execute_result"
    }
   ],
   "source": [
    "D= {}\n",
    "D[tuple([1,2,3])] = 5\n",
    "D"
   ]
  },
  {
   "cell_type": "code",
   "execution_count": 32,
   "id": "2de91bd6",
   "metadata": {},
   "outputs": [],
   "source": [
    "### above we are using a tuple as a key"
   ]
  },
  {
   "cell_type": "markdown",
   "id": "a75edb4a",
   "metadata": {},
   "source": [
    "## SETS (STORES UNIQUE ELEMENTS)"
   ]
  },
  {
   "cell_type": "code",
   "execution_count": 33,
   "id": "4a1b78e6",
   "metadata": {},
   "outputs": [
    {
     "data": {
      "text/plain": [
       "{1, 2, 3}"
      ]
     },
     "execution_count": 33,
     "metadata": {},
     "output_type": "execute_result"
    }
   ],
   "source": [
    " set([2, 2, 2, 1, 3, 3])\n",
    " {2, 2, 2, 1, 3, 3}"
   ]
  },
  {
   "cell_type": "code",
   "execution_count": 34,
   "id": "0738d093",
   "metadata": {},
   "outputs": [],
   "source": [
    " a = {1, 2, 3, 4, 5}\n",
    " b = {3, 4, 5, 6, 7, 8}\n"
   ]
  },
  {
   "cell_type": "markdown",
   "id": "b78d4a45",
   "metadata": {},
   "source": [
    "NOW WE CAN TAKE UNION , INTERSECTION AND COPY "
   ]
  },
  {
   "cell_type": "code",
   "execution_count": 35,
   "id": "029e0481",
   "metadata": {},
   "outputs": [
    {
     "data": {
      "text/plain": [
       "{1, 2, 3, 4, 5, 6, 7, 8}"
      ]
     },
     "execution_count": 35,
     "metadata": {},
     "output_type": "execute_result"
    }
   ],
   "source": [
    "a.union(b)"
   ]
  },
  {
   "cell_type": "code",
   "execution_count": 36,
   "id": "289bd5c3",
   "metadata": {},
   "outputs": [
    {
     "data": {
      "text/plain": [
       "{3, 4, 5}"
      ]
     },
     "execution_count": 36,
     "metadata": {},
     "output_type": "execute_result"
    }
   ],
   "source": [
    "a.intersection(b)"
   ]
  },
  {
   "cell_type": "code",
   "execution_count": 40,
   "id": "e88fdf36",
   "metadata": {},
   "outputs": [
    {
     "data": {
      "text/plain": [
       "{1, 2, 3, 4, 5, 6, 7, 8}"
      ]
     },
     "execution_count": 40,
     "metadata": {},
     "output_type": "execute_result"
    }
   ],
   "source": [
    " c = a.copy()\n",
    " c |= b\n",
    " c\n",
    "## this takes the union"
   ]
  },
  {
   "cell_type": "code",
   "execution_count": 42,
   "id": "a00c6aa2",
   "metadata": {},
   "outputs": [
    {
     "data": {
      "text/plain": [
       "{3, 4, 5}"
      ]
     },
     "execution_count": 42,
     "metadata": {},
     "output_type": "execute_result"
    }
   ],
   "source": [
    "d = a.copy()\n",
    "d &= b\n",
    "d\n",
    "# this takes the intersection"
   ]
  },
  {
   "cell_type": "code",
   "execution_count": 43,
   "id": "8b32a968",
   "metadata": {},
   "outputs": [
    {
     "data": {
      "text/plain": [
       "{(1, 2, 3, 4)}"
      ]
     },
     "execution_count": 43,
     "metadata": {},
     "output_type": "execute_result"
    }
   ],
   "source": [
    "my_data = [1, 2, 3, 4]\n",
    "my_set = {tuple(my_data)}\n",
    "my_set"
   ]
  },
  {
   "cell_type": "code",
   "execution_count": 44,
   "id": "6013f7a7",
   "metadata": {},
   "outputs": [
    {
     "data": {
      "text/plain": [
       "True"
      ]
     },
     "execution_count": 44,
     "metadata": {},
     "output_type": "execute_result"
    }
   ],
   "source": [
    "a_set = {1, 2, 3, 4, 5}\n",
    "{1, 2, 3}.issubset(a_set)\n",
    "a_set.issuperset({1, 2, 3})\n",
    "## checks for subset"
   ]
  },
  {
   "cell_type": "code",
   "execution_count": 45,
   "id": "2b83815d",
   "metadata": {},
   "outputs": [
    {
     "data": {
      "text/plain": [
       "True"
      ]
     },
     "execution_count": 45,
     "metadata": {},
     "output_type": "execute_result"
    }
   ],
   "source": [
    "{1, 2, 3} == {3, 2, 1}"
   ]
  },
  {
   "cell_type": "code",
   "execution_count": 46,
   "id": "735ff936",
   "metadata": {},
   "outputs": [
    {
     "data": {
      "text/plain": [
       "[' ', 'a', 'c', 'e', 'e', 'h', 'o', 'r', 'r', 's']"
      ]
     },
     "execution_count": 46,
     "metadata": {},
     "output_type": "execute_result"
    }
   ],
   "source": [
    "sorted(\"horse race\") #sorts in alphabet order"
   ]
  },
  {
   "cell_type": "code",
   "execution_count": 48,
   "id": "245cc895",
   "metadata": {},
   "outputs": [
    {
     "data": {
      "text/plain": [
       "[('foo', 'one'), ('bar', 'two'), ('baz', 'three')]"
      ]
     },
     "execution_count": 48,
     "metadata": {},
     "output_type": "execute_result"
    }
   ],
   "source": [
    "seq1 = [\"foo\", \"bar\", \"baz\"]\n",
    "seq2 = [\"one\", \"two\", \"three\"]\n",
    "zipped = zip(seq1, seq2) ##zips it into a tuple\n",
    "list(zipped)"
   ]
  },
  {
   "cell_type": "code",
   "execution_count": 49,
   "id": "36a14417",
   "metadata": {},
   "outputs": [
    {
     "data": {
      "text/plain": [
       "[('foo', 'one', False), ('bar', 'two', True)]"
      ]
     },
     "execution_count": 49,
     "metadata": {},
     "output_type": "execute_result"
    }
   ],
   "source": [
    "seq3 = [False, True]\n",
    "list(zip(seq1, seq2, seq3))"
   ]
  },
  {
   "cell_type": "code",
   "execution_count": 51,
   "id": "646ab998",
   "metadata": {},
   "outputs": [
    {
     "name": "stdout",
     "output_type": "stream",
     "text": [
      "0: foo, one\n",
      "1: bar, two\n",
      "2: baz, three\n"
     ]
    }
   ],
   "source": [
    "for index, (a, b) in enumerate(zip(seq1, seq2)):\n",
    "    print(f\"{index}: {a}, {b}\")"
   ]
  },
  {
   "cell_type": "code",
   "execution_count": 52,
   "id": "bb1aa1d7",
   "metadata": {},
   "outputs": [
    {
     "data": {
      "text/plain": [
       "[9, 8, 7, 6, 5, 4, 3, 2, 1, 0]"
      ]
     },
     "execution_count": 52,
     "metadata": {},
     "output_type": "execute_result"
    }
   ],
   "source": [
    "list(reversed(range(10)))"
   ]
  },
  {
   "cell_type": "code",
   "execution_count": 53,
   "id": "c8747177",
   "metadata": {},
   "outputs": [
    {
     "data": {
      "text/plain": [
       "['BAT', 'CAR', 'DOVE', 'PYTHON']"
      ]
     },
     "execution_count": 53,
     "metadata": {},
     "output_type": "execute_result"
    }
   ],
   "source": [
    "strings = [\"a\", \"as\", \"bat\", \"car\", \"dove\", \"python\"]\n",
    "[x.upper() for x in strings if len(x) > 2]"
   ]
  },
  {
   "cell_type": "code",
   "execution_count": 54,
   "id": "0ba5c6e8",
   "metadata": {},
   "outputs": [
    {
     "data": {
      "text/plain": [
       "{1, 2, 3, 4, 6}"
      ]
     },
     "execution_count": 54,
     "metadata": {},
     "output_type": "execute_result"
    }
   ],
   "source": [
    "unique_lengths = {len(x) for x in strings}\n",
    "unique_lengths"
   ]
  },
  {
   "cell_type": "code",
   "execution_count": 55,
   "id": "25af80cb",
   "metadata": {},
   "outputs": [
    {
     "data": {
      "text/plain": [
       "{1, 2, 3, 4, 6}"
      ]
     },
     "execution_count": 55,
     "metadata": {},
     "output_type": "execute_result"
    }
   ],
   "source": [
    "set(map(len, strings))"
   ]
  },
  {
   "cell_type": "code",
   "execution_count": 56,
   "id": "10551515",
   "metadata": {},
   "outputs": [
    {
     "data": {
      "text/plain": [
       "{'a': 0, 'as': 1, 'bat': 2, 'car': 3, 'dove': 4, 'python': 5}"
      ]
     },
     "execution_count": 56,
     "metadata": {},
     "output_type": "execute_result"
    }
   ],
   "source": [
    " loc_mapping = {value: index for index, value in enumerate(strings)}\n",
    " loc_mapping ## creates a dictionary"
   ]
  },
  {
   "cell_type": "code",
   "execution_count": 60,
   "id": "3abd61e3",
   "metadata": {},
   "outputs": [
    {
     "data": {
      "text/plain": [
       "['Maria', 'Natalia']"
      ]
     },
     "execution_count": 60,
     "metadata": {},
     "output_type": "execute_result"
    }
   ],
   "source": [
    "all_data = [[\"John\", \"Emily\", \"Michael\", \"Mary\", \"Steven\"],\n",
    "            [\"Maria\", \"Juan\", \"Javier\", \"Natalia\", \"Pilar\"]]\n",
    "names_of_interest = []\n",
    "for names in all_data:\n",
    "    enough_as = [name for name in names if name.count(\"a\") >= 2]\n",
    "    names_of_interest.extend(enough_as)\n",
    "names_of_interest"
   ]
  },
  {
   "cell_type": "code",
   "execution_count": 61,
   "id": "6c336d4a",
   "metadata": {},
   "outputs": [
    {
     "data": {
      "text/plain": [
       "['Maria', 'Natalia']"
      ]
     },
     "execution_count": 61,
     "metadata": {},
     "output_type": "execute_result"
    }
   ],
   "source": [
    "result = [name for names in all_data for name in names\n",
    "          if name.count(\"a\") >= 2]\n",
    "result"
   ]
  },
  {
   "cell_type": "code",
   "execution_count": 70,
   "id": "6a9886de",
   "metadata": {},
   "outputs": [
    {
     "data": {
      "text/plain": [
       "[1, 2, 3, 4, 5, 6, 7, 8, 9]"
      ]
     },
     "execution_count": 70,
     "metadata": {},
     "output_type": "execute_result"
    }
   ],
   "source": [
    "#flattens an array\n",
    "some_tuples = [(1, 2, 3), (4, 5, 6), (7, 8, 9)]\n",
    "flattened = [x for tup in some_tuples for x in tup]\n",
    "flattened"
   ]
  },
  {
   "cell_type": "code",
   "execution_count": 69,
   "id": "98e70c09",
   "metadata": {},
   "outputs": [
    {
     "data": {
      "text/plain": [
       "[[1, 2, 3], [4, 5, 6], [7, 8, 9]]"
      ]
     },
     "execution_count": 69,
     "metadata": {},
     "output_type": "execute_result"
    }
   ],
   "source": [
    "\n",
    "#makes the faltterned list into a 2d list\n",
    "flattened = []\n",
    "for tup in some_tuples:\n",
    "    for x in tup:\n",
    "        flattened.append(x)\n",
    "[[x for x in tup] for tup in some_tuples]"
   ]
  },
  {
   "cell_type": "markdown",
   "id": "d3b4a16c",
   "metadata": {},
   "source": [
    "# Functions "
   ]
  },
  {
   "cell_type": "code",
   "execution_count": 64,
   "id": "74a7c428",
   "metadata": {},
   "outputs": [
    {
     "data": {
      "text/plain": [
       "3"
      ]
     },
     "execution_count": 64,
     "metadata": {},
     "output_type": "execute_result"
    }
   ],
   "source": [
    " def my_function(x, y):\n",
    "    return x + y\n",
    " my_function(1, 2)\n",
    " result = my_function(1, 2)\n",
    " result"
   ]
  },
  {
   "cell_type": "code",
   "execution_count": 71,
   "id": "73d7e5e4",
   "metadata": {},
   "outputs": [
    {
     "name": "stdout",
     "output_type": "stream",
     "text": [
      "hello!\n",
      "None\n"
     ]
    }
   ],
   "source": [
    "def function_without_return(x):\n",
    "    print(x)\n",
    "result = function_without_return(\"hello!\")\n",
    "print(result)"
   ]
  },
  {
   "cell_type": "code",
   "execution_count": 72,
   "id": "01dc7be8",
   "metadata": {},
   "outputs": [],
   "source": [
    "def my_function2(x, y, z=1.5):\n",
    "    if z > 1:\n",
    "        return z * (x + y)\n",
    "    else:\n",
    "        return z / (x + y)"
   ]
  },
  {
   "cell_type": "code",
   "execution_count": 74,
   "id": "73cbafc5",
   "metadata": {},
   "outputs": [
    {
     "name": "stdout",
     "output_type": "stream",
     "text": [
      "0.06363636363636363\n",
      "35.49\n",
      "45.0\n"
     ]
    }
   ],
   "source": [
    "print(my_function2(5, 6, z=0.7))\n",
    "print(my_function2(3.14, 7, 3.5))\n",
    "print(my_function2(10, 20))"
   ]
  },
  {
   "cell_type": "code",
   "execution_count": 79,
   "id": "a6089808",
   "metadata": {},
   "outputs": [
    {
     "data": {
      "text/plain": [
       "[0, 1, 2, 3, 4]"
      ]
     },
     "execution_count": 79,
     "metadata": {},
     "output_type": "execute_result"
    }
   ],
   "source": [
    "a = []\n",
    "def func():\n",
    "    for i in range(5):\n",
    "        a.append(i)\n",
    "func()\n",
    "a"
   ]
  },
  {
   "cell_type": "code",
   "execution_count": 81,
   "id": "9866c87d",
   "metadata": {},
   "outputs": [
    {
     "name": "stdout",
     "output_type": "stream",
     "text": [
      "[]\n"
     ]
    }
   ],
   "source": [
    "a = None\n",
    "def bind_a_variable():\n",
    "    global a\n",
    "    a = []\n",
    "bind_a_variable()\n",
    "print(a)\n",
    "## changes global variable a from None to empty list"
   ]
  },
  {
   "cell_type": "code",
   "execution_count": 85,
   "id": "95bb82c0",
   "metadata": {},
   "outputs": [
    {
     "data": {
      "text/plain": [
       "['Alabama',\n",
       " 'Georgia',\n",
       " 'Georgia',\n",
       " 'Georgia',\n",
       " 'Florida',\n",
       " 'South   Carolina',\n",
       " 'West Virginia']"
      ]
     },
     "execution_count": 85,
     "metadata": {},
     "output_type": "execute_result"
    }
   ],
   "source": [
    "states = [\"   Alabama \", \"Georgia!\", \"Georgia\", \"georgia\", \"FlOrIda\",\n",
    "          \"south   carolina##\", \"West virginia?\"]\n",
    "import re\n",
    "def clean_strings(strings):\n",
    "    result = []\n",
    "    for value in strings:\n",
    "        value = value.strip()\n",
    "        value = re.sub(\"[!#?]\", \"\", value)\n",
    "        value = value.title()\n",
    "        result.append(value)\n",
    "    return result\n",
    "clean_strings(states)\n",
    "\n",
    "#PROGRAM FOR CLEANING NON LETTER CHARACTERS and capitilizing the first letter of each US state"
   ]
  },
  {
   "cell_type": "code",
   "execution_count": 88,
   "id": "8e0b2fb0",
   "metadata": {},
   "outputs": [
    {
     "data": {
      "text/plain": [
       "['Alabama',\n",
       " 'Georgia',\n",
       " 'Georgia',\n",
       " 'Georgia',\n",
       " 'Florida',\n",
       " 'South   Carolina',\n",
       " 'West Virginia']"
      ]
     },
     "execution_count": 88,
     "metadata": {},
     "output_type": "execute_result"
    }
   ],
   "source": [
    "def remove_punctuation(value):\n",
    "    return re.sub(\"[!#?]\", \"\", value)\n",
    "clean_ops = [str.strip, remove_punctuation, str.title]\n",
    "def clean_strings(strings, ops):\n",
    "    result = []\n",
    "    for value in strings:\n",
    "        for func in ops:\n",
    "            value = func(value)\n",
    "        result.append(value)\n",
    "    return result\n",
    "clean_strings(states, clean_ops)"
   ]
  },
  {
   "cell_type": "code",
   "execution_count": 89,
   "id": "d04b4c2b",
   "metadata": {},
   "outputs": [
    {
     "name": "stdout",
     "output_type": "stream",
     "text": [
      "   Alabama \n",
      "Georgia\n",
      "Georgia\n",
      "georgia\n",
      "FlOrIda\n",
      "south   carolina\n",
      "West virginia\n"
     ]
    }
   ],
   "source": [
    "for x in map(remove_punctuation, states):\n",
    "    print(x) ### map functions maps the list to the function"
   ]
  },
  {
   "cell_type": "markdown",
   "id": "78bae357",
   "metadata": {},
   "source": [
    "#  (Lambda) Functions"
   ]
  },
  {
   "cell_type": "code",
   "execution_count": 90,
   "id": "d98166c0",
   "metadata": {},
   "outputs": [
    {
     "data": {
      "text/plain": [
       "[8, 0, 2, 10, 12]"
      ]
     },
     "execution_count": 90,
     "metadata": {},
     "output_type": "execute_result"
    }
   ],
   "source": [
    "def apply_to_list(some_list, f):\n",
    "    return [f(x) for x in some_list]\n",
    "ints = [4, 0, 1, 5, 6]\n",
    "apply_to_list(ints, lambda x: x * 2)\n",
    "\n",
    "### lambda functions are inline functions that can do stuff in one line "
   ]
  },
  {
   "cell_type": "code",
   "execution_count": 91,
   "id": "86da6172",
   "metadata": {},
   "outputs": [
    {
     "data": {
      "text/plain": [
       "['aaaa', 'foo', 'abab', 'bar', 'card']"
      ]
     },
     "execution_count": 91,
     "metadata": {},
     "output_type": "execute_result"
    }
   ],
   "source": [
    "strings = [\"foo\", \"card\", \"bar\", \"aaaa\", \"abab\"]\n",
    "strings.sort(key=lambda x: len(set(x)))\n",
    "strings\n",
    "\n",
    "# inline functins that sort order by length"
   ]
  },
  {
   "cell_type": "code",
   "execution_count": 92,
   "id": "7ded4d62",
   "metadata": {},
   "outputs": [
    {
     "name": "stdout",
     "output_type": "stream",
     "text": [
      "a\n",
      "b\n",
      "c\n"
     ]
    }
   ],
   "source": [
    "some_dict = {\"a\": 1, \"b\": 2, \"c\": 3}\n",
    "for key in some_dict:\n",
    "    print(key)"
   ]
  },
  {
   "cell_type": "code",
   "execution_count": 93,
   "id": "a19938ea",
   "metadata": {},
   "outputs": [
    {
     "data": {
      "text/plain": [
       "<dict_keyiterator at 0x242546ecef0>"
      ]
     },
     "execution_count": 93,
     "metadata": {},
     "output_type": "execute_result"
    }
   ],
   "source": [
    "dict_iterator = iter(some_dict)\n",
    "dict_iterator ##iterator is a class that creates an iteratable object from a dictionary keys"
   ]
  },
  {
   "cell_type": "code",
   "execution_count": 94,
   "id": "6cd7d1b3",
   "metadata": {},
   "outputs": [
    {
     "data": {
      "text/plain": [
       "['a', 'b', 'c']"
      ]
     },
     "execution_count": 94,
     "metadata": {},
     "output_type": "execute_result"
    }
   ],
   "source": [
    "list(dict_iterator)"
   ]
  },
  {
   "cell_type": "markdown",
   "id": "20955880",
   "metadata": {},
   "source": [
    "## generators"
   ]
  },
  {
   "cell_type": "code",
   "execution_count": 95,
   "id": "1b568add",
   "metadata": {},
   "outputs": [
    {
     "data": {
      "text/plain": [
       "<generator object squares at 0x0000024254E9AB30>"
      ]
     },
     "execution_count": 95,
     "metadata": {},
     "output_type": "execute_result"
    }
   ],
   "source": [
    "def squares(n=10):\n",
    "    print(f\"Generating squares from 1 to {n ** 2}\")\n",
    "    for i in range(1, n + 1):\n",
    "        yield i ** 2\n",
    "gen = squares()\n",
    "gen"
   ]
  },
  {
   "cell_type": "code",
   "execution_count": 96,
   "id": "45c96885",
   "metadata": {},
   "outputs": [
    {
     "name": "stdout",
     "output_type": "stream",
     "text": [
      "Generating squares from 1 to 100\n",
      "1 4 9 16 25 36 49 64 81 100 "
     ]
    }
   ],
   "source": [
    "for x in gen:\n",
    "    print(x , end =\" \")"
   ]
  },
  {
   "cell_type": "code",
   "execution_count": 97,
   "id": "f69a8ddd",
   "metadata": {},
   "outputs": [
    {
     "data": {
      "text/plain": [
       "<generator object <genexpr> at 0x0000024254E9AF90>"
      ]
     },
     "execution_count": 97,
     "metadata": {},
     "output_type": "execute_result"
    }
   ],
   "source": [
    "gen = (x ** 2 for x in range(100))\n",
    "gen"
   ]
  },
  {
   "cell_type": "code",
   "execution_count": 98,
   "id": "586f3bbc",
   "metadata": {},
   "outputs": [
    {
     "data": {
      "text/plain": [
       "{0: 0, 1: 1, 2: 4, 3: 9, 4: 16}"
      ]
     },
     "execution_count": 98,
     "metadata": {},
     "output_type": "execute_result"
    }
   ],
   "source": [
    "sum(x ** 2 for x in range(100))\n",
    "dict((i, i ** 2) for i in range(5))\n",
    "## creates a dictionary"
   ]
  },
  {
   "cell_type": "code",
   "execution_count": 99,
   "id": "2df86111",
   "metadata": {},
   "outputs": [
    {
     "name": "stdout",
     "output_type": "stream",
     "text": [
      "A ['Alan', 'Adam']\n",
      "W ['Wes', 'Will']\n",
      "A ['Albert']\n",
      "S ['Steven']\n"
     ]
    }
   ],
   "source": [
    "import itertools\n",
    "def first_letter(x):\n",
    "    return x[0]\n",
    "names = [\"Alan\", \"Adam\", \"Wes\", \"Will\", \"Albert\", \"Steven\"]\n",
    "for letter, names in itertools.groupby(names, first_letter):\n",
    "    print(letter, list(names)) # names is a generator\n",
    "\n"
   ]
  },
  {
   "cell_type": "code",
   "execution_count": 100,
   "id": "8568c741",
   "metadata": {},
   "outputs": [
    {
     "data": {
      "text/plain": [
       "1.2345"
      ]
     },
     "execution_count": 100,
     "metadata": {},
     "output_type": "execute_result"
    }
   ],
   "source": [
    "float(\"1.2345\")"
   ]
  },
  {
   "cell_type": "markdown",
   "id": "6b8b4c8e",
   "metadata": {},
   "source": [
    "# ERROR HANDLING "
   ]
  },
  {
   "cell_type": "code",
   "execution_count": 102,
   "id": "ea42506e",
   "metadata": {},
   "outputs": [
    {
     "data": {
      "text/plain": [
       "'something'"
      ]
     },
     "execution_count": 102,
     "metadata": {},
     "output_type": "execute_result"
    }
   ],
   "source": [
    "def attempt_float(x):\n",
    "    try:\n",
    "        return float(x)\n",
    "    except:\n",
    "        return x\n",
    "attempt_float(\"1.2345\")\n",
    "attempt_float(\"something\")"
   ]
  },
  {
   "cell_type": "code",
   "execution_count": 103,
   "id": "00bd1986",
   "metadata": {},
   "outputs": [
    {
     "ename": "TypeError",
     "evalue": "float() argument must be a string or a number, not 'tuple'",
     "output_type": "error",
     "traceback": [
      "\u001b[1;31m---------------------------------------------------------------------------\u001b[0m",
      "\u001b[1;31mTypeError\u001b[0m                                 Traceback (most recent call last)",
      "\u001b[1;32m~\\AppData\\Local\\Temp\\ipykernel_16012\\1061708882.py\u001b[0m in \u001b[0;36m<module>\u001b[1;34m\u001b[0m\n\u001b[1;32m----> 1\u001b[1;33m \u001b[0mfloat\u001b[0m\u001b[1;33m(\u001b[0m\u001b[1;33m(\u001b[0m\u001b[1;36m1\u001b[0m\u001b[1;33m,\u001b[0m \u001b[1;36m2\u001b[0m\u001b[1;33m)\u001b[0m\u001b[1;33m)\u001b[0m\u001b[1;33m\u001b[0m\u001b[1;33m\u001b[0m\u001b[0m\n\u001b[0m",
      "\u001b[1;31mTypeError\u001b[0m: float() argument must be a string or a number, not 'tuple'"
     ]
    }
   ],
   "source": [
    "float((1, 2))  ##THROWS AND ERROR"
   ]
  },
  {
   "cell_type": "code",
   "execution_count": 104,
   "id": "81ca3751",
   "metadata": {},
   "outputs": [
    {
     "ename": "TypeError",
     "evalue": "float() argument must be a string or a number, not 'tuple'",
     "output_type": "error",
     "traceback": [
      "\u001b[1;31m---------------------------------------------------------------------------\u001b[0m",
      "\u001b[1;31mTypeError\u001b[0m                                 Traceback (most recent call last)",
      "\u001b[1;32m~\\AppData\\Local\\Temp\\ipykernel_16012\\1828145259.py\u001b[0m in \u001b[0;36m<module>\u001b[1;34m\u001b[0m\n\u001b[0;32m      4\u001b[0m     \u001b[1;32mexcept\u001b[0m \u001b[0mValueError\u001b[0m\u001b[1;33m:\u001b[0m\u001b[1;33m\u001b[0m\u001b[1;33m\u001b[0m\u001b[0m\n\u001b[0;32m      5\u001b[0m         \u001b[1;32mreturn\u001b[0m \u001b[0mx\u001b[0m\u001b[1;33m\u001b[0m\u001b[1;33m\u001b[0m\u001b[0m\n\u001b[1;32m----> 6\u001b[1;33m \u001b[0mattempt_float\u001b[0m\u001b[1;33m(\u001b[0m\u001b[1;33m(\u001b[0m\u001b[1;36m1\u001b[0m\u001b[1;33m,\u001b[0m \u001b[1;36m2\u001b[0m\u001b[1;33m)\u001b[0m\u001b[1;33m)\u001b[0m\u001b[1;33m\u001b[0m\u001b[1;33m\u001b[0m\u001b[0m\n\u001b[0m",
      "\u001b[1;32m~\\AppData\\Local\\Temp\\ipykernel_16012\\1828145259.py\u001b[0m in \u001b[0;36mattempt_float\u001b[1;34m(x)\u001b[0m\n\u001b[0;32m      1\u001b[0m \u001b[1;32mdef\u001b[0m \u001b[0mattempt_float\u001b[0m\u001b[1;33m(\u001b[0m\u001b[0mx\u001b[0m\u001b[1;33m)\u001b[0m\u001b[1;33m:\u001b[0m\u001b[1;33m\u001b[0m\u001b[1;33m\u001b[0m\u001b[0m\n\u001b[0;32m      2\u001b[0m     \u001b[1;32mtry\u001b[0m\u001b[1;33m:\u001b[0m\u001b[1;33m\u001b[0m\u001b[1;33m\u001b[0m\u001b[0m\n\u001b[1;32m----> 3\u001b[1;33m         \u001b[1;32mreturn\u001b[0m \u001b[0mfloat\u001b[0m\u001b[1;33m(\u001b[0m\u001b[0mx\u001b[0m\u001b[1;33m)\u001b[0m\u001b[1;33m\u001b[0m\u001b[1;33m\u001b[0m\u001b[0m\n\u001b[0m\u001b[0;32m      4\u001b[0m     \u001b[1;32mexcept\u001b[0m \u001b[0mValueError\u001b[0m\u001b[1;33m:\u001b[0m\u001b[1;33m\u001b[0m\u001b[1;33m\u001b[0m\u001b[0m\n\u001b[0;32m      5\u001b[0m         \u001b[1;32mreturn\u001b[0m \u001b[0mx\u001b[0m\u001b[1;33m\u001b[0m\u001b[1;33m\u001b[0m\u001b[0m\n",
      "\u001b[1;31mTypeError\u001b[0m: float() argument must be a string or a number, not 'tuple'"
     ]
    }
   ],
   "source": [
    "def attempt_float(x):\n",
    "    try:\n",
    "        return float(x)\n",
    "    except ValueError:\n",
    "        return x\n",
    "attempt_float((1, 2))"
   ]
  },
  {
   "cell_type": "code",
   "execution_count": 105,
   "id": "52c483d0",
   "metadata": {},
   "outputs": [],
   "source": [
    "def attempt_float(x):\n",
    "    try:\n",
    "        return float(x)\n",
    "    except (TypeError, ValueError):\n",
    "        return x"
   ]
  },
  {
   "cell_type": "code",
   "execution_count": 106,
   "id": "1886797c",
   "metadata": {},
   "outputs": [
    {
     "data": {
      "text/plain": [
       "(3, 3)"
      ]
     },
     "execution_count": 106,
     "metadata": {},
     "output_type": "execute_result"
    }
   ],
   "source": [
    "attempt_float((3,3))"
   ]
  },
  {
   "cell_type": "markdown",
   "id": "b450c6da",
   "metadata": {},
   "source": [
    "## creating a text file"
   ]
  },
  {
   "cell_type": "code",
   "execution_count": 110,
   "id": "d352e3d6",
   "metadata": {},
   "outputs": [],
   "source": [
    "path = \"example.txt\""
   ]
  },
  {
   "cell_type": "code",
   "execution_count": 111,
   "id": "034dd9ec",
   "metadata": {},
   "outputs": [
    {
     "data": {
      "text/plain": [
       "['hello my name is sitaram , i study in manipal institute of technology',\n",
       " 'hello hello hello']"
      ]
     },
     "execution_count": 111,
     "metadata": {},
     "output_type": "execute_result"
    }
   ],
   "source": [
    "f = open(path , encoding = \"utf-8\")\n",
    "lines = [x.rstrip() for x in open(path, encoding=\"utf-8\")]\n",
    "lines"
   ]
  },
  {
   "cell_type": "code",
   "execution_count": 112,
   "id": "649702bc",
   "metadata": {},
   "outputs": [
    {
     "data": {
      "text/plain": [
       "b'hello my n'"
      ]
     },
     "execution_count": 112,
     "metadata": {},
     "output_type": "execute_result"
    }
   ],
   "source": [
    "f.close()\n",
    "with open(path, encoding=\"utf-8\") as f:\n",
    "    lines = [x.rstrip() for x in f]\n",
    "f1 = open(path)\n",
    "f1.read(10)\n",
    "f2 = open(path, mode=\"rb\")  # Binary mode\n",
    "f2.read(10)"
   ]
  },
  {
   "cell_type": "code",
   "execution_count": 113,
   "id": "d89535fe",
   "metadata": {},
   "outputs": [
    {
     "data": {
      "text/plain": [
       "10"
      ]
     },
     "execution_count": 113,
     "metadata": {},
     "output_type": "execute_result"
    }
   ],
   "source": [
    " f1.tell()\n",
    " f2.tell()"
   ]
  },
  {
   "cell_type": "code",
   "execution_count": 114,
   "id": "2c1e6566",
   "metadata": {},
   "outputs": [
    {
     "data": {
      "text/plain": [
       "'utf-8'"
      ]
     },
     "execution_count": 114,
     "metadata": {},
     "output_type": "execute_result"
    }
   ],
   "source": [
    " import sys\n",
    " sys.getdefaultencoding()"
   ]
  },
  {
   "cell_type": "code",
   "execution_count": 115,
   "id": "b6b964d5",
   "metadata": {},
   "outputs": [
    {
     "data": {
      "text/plain": [
       "4"
      ]
     },
     "execution_count": 115,
     "metadata": {},
     "output_type": "execute_result"
    }
   ],
   "source": [
    "f1.seek(3)\n",
    "f1.read(1)\n",
    "f1.tell()"
   ]
  },
  {
   "cell_type": "code",
   "execution_count": 116,
   "id": "12890107",
   "metadata": {},
   "outputs": [],
   "source": [
    "f1.close()\n",
    "f2.close()"
   ]
  },
  {
   "cell_type": "code",
   "execution_count": 117,
   "id": "b0ee9f35",
   "metadata": {},
   "outputs": [
    {
     "data": {
      "text/plain": [
       "['hello my name is sitaram , i study in manipal institute of technology\\n',\n",
       " 'hello hello hello']"
      ]
     },
     "execution_count": 117,
     "metadata": {},
     "output_type": "execute_result"
    }
   ],
   "source": [
    "with open(\"tmp.txt\", mode=\"w\") as handle:\n",
    "    handle.writelines(x for x in open(path) if len(x) > 1)\n",
    "with open(\"tmp.txt\") as f:\n",
    "    lines = f.readlines()\n",
    "lines"
   ]
  },
  {
   "cell_type": "code",
   "execution_count": 118,
   "id": "e8672ea1",
   "metadata": {},
   "outputs": [
    {
     "data": {
      "text/plain": [
       "10"
      ]
     },
     "execution_count": 118,
     "metadata": {},
     "output_type": "execute_result"
    }
   ],
   "source": [
    "import os\n",
    "os.remove(\"tmp.txt\")\n",
    "with open(path) as f:\n",
    "    chars = f.read(10)\n",
    "chars\n",
    "len(chars)"
   ]
  },
  {
   "cell_type": "code",
   "execution_count": 119,
   "id": "cc488167",
   "metadata": {},
   "outputs": [
    {
     "data": {
      "text/plain": [
       "b'hello my n'"
      ]
     },
     "execution_count": 119,
     "metadata": {},
     "output_type": "execute_result"
    }
   ],
   "source": [
    "with open(path, mode=\"rb\") as f:\n",
    "    data = f.read(10)\n",
    "data"
   ]
  },
  {
   "cell_type": "code",
   "execution_count": 123,
   "id": "c07293a3",
   "metadata": {},
   "outputs": [
    {
     "data": {
      "text/plain": [
       "'hell'"
      ]
     },
     "execution_count": 123,
     "metadata": {},
     "output_type": "execute_result"
    }
   ],
   "source": [
    "data.decode(\"utf-8\")\n",
    "data[:4].decode(\"utf-8\")"
   ]
  },
  {
   "cell_type": "code",
   "execution_count": 121,
   "id": "22bfa1b2",
   "metadata": {},
   "outputs": [
    {
     "name": "stdout",
     "output_type": "stream",
     "text": [
      "hello my n\n"
     ]
    }
   ],
   "source": [
    "sink_path = \"sink.txt\"\n",
    "with open(path) as source:\n",
    "    with open(sink_path, \"x\", encoding=\"iso-8859-1\") as sink:\n",
    "        sink.write(source.read())\n",
    "with open(sink_path, encoding=\"iso-8859-1\") as f:\n",
    "    print(f.read(10))"
   ]
  },
  {
   "cell_type": "code",
   "execution_count": 122,
   "id": "f0b2e580",
   "metadata": {},
   "outputs": [],
   "source": [
    "os.remove(sink_path)\n",
    "f = open(path, encoding='utf-8')\n",
    "f.read(5)\n",
    "f.seek(4)\n",
    "f.read(1)\n",
    "f.close()"
   ]
  },
  {
   "cell_type": "code",
   "execution_count": null,
   "id": "4177d3ac",
   "metadata": {},
   "outputs": [],
   "source": []
  }
 ],
 "metadata": {
  "kernelspec": {
   "display_name": "Python 3 (ipykernel)",
   "language": "python",
   "name": "python3"
  },
  "language_info": {
   "codemirror_mode": {
    "name": "ipython",
    "version": 3
   },
   "file_extension": ".py",
   "mimetype": "text/x-python",
   "name": "python",
   "nbconvert_exporter": "python",
   "pygments_lexer": "ipython3",
   "version": "3.9.13"
  }
 },
 "nbformat": 4,
 "nbformat_minor": 5
}
