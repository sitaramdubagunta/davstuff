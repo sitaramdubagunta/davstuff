{
 "cells": [
  {
   "cell_type": "markdown",
   "id": "5b0788a8",
   "metadata": {},
   "source": [
    "1. Write a Python function to input two numbers and perform the \n",
    "Calculator operations of (+, -, *, /).  \n",
    "2. Write a Python function that takes an integer and returns True if \n",
    "it’s a prime number and False otherwise. \n",
    "3. Create a Python function that creates a sequence between 1 and \n",
    "100 and prints all the odd numbers. Compute and display the sum \n",
    "of all the even numbers. \n",
    "4. Write a Python function to add two elements and display the \n",
    "result. The elements can be of type integer, float or string. \n",
    "5. Write a Python function that takes a string input from the user \n",
    "and counts the number of vowels and consonants in the string. "
   ]
  },
  {
   "cell_type": "markdown",
   "id": "0b570865",
   "metadata": {},
   "source": [
    "# program 1 (calculator)"
   ]
  },
  {
   "cell_type": "code",
   "execution_count": 1,
   "id": "dae4af36",
   "metadata": {},
   "outputs": [],
   "source": [
    "def Calculator( a  ,   b,  operator):\n",
    "    \n",
    "    \n",
    "    if operator == 1:\n",
    "        return a+b\n",
    "    elif operator == 2:\n",
    "        return a-b\n",
    "    elif operator == 3:\n",
    "        return a*b\n",
    "    elif operator ==4:\n",
    "        if(b==0):\n",
    "            return \"division by zero error\"\n",
    "        return a/b\n",
    "    else:\n",
    "        return \"enter a valid operator\"\n",
    "        \n",
    "        \n",
    "    "
   ]
  },
  {
   "cell_type": "code",
   "execution_count": 2,
   "id": "c75ff33e",
   "metadata": {},
   "outputs": [
    {
     "data": {
      "text/plain": [
       "3"
      ]
     },
     "execution_count": 2,
     "metadata": {},
     "output_type": "execute_result"
    }
   ],
   "source": [
    "Calculator(1,3 , 3)"
   ]
  },
  {
   "cell_type": "code",
   "execution_count": 3,
   "id": "132818fc",
   "metadata": {},
   "outputs": [
    {
     "data": {
      "text/plain": [
       "'enter a valid operator'"
      ]
     },
     "execution_count": 3,
     "metadata": {},
     "output_type": "execute_result"
    }
   ],
   "source": [
    "Calculator( 1 ,2 ,0)"
   ]
  },
  {
   "cell_type": "code",
   "execution_count": 4,
   "id": "9626aff7",
   "metadata": {},
   "outputs": [
    {
     "data": {
      "text/plain": [
       "'division by zero error'"
      ]
     },
     "execution_count": 4,
     "metadata": {},
     "output_type": "execute_result"
    }
   ],
   "source": [
    "\n",
    "\n",
    "\n",
    "Calculator(1, 0 , 4)\n"
   ]
  },
  {
   "cell_type": "markdown",
   "id": "dfcda2fa",
   "metadata": {},
   "source": [
    "# program 2 (prime number program)"
   ]
  },
  {
   "cell_type": "code",
   "execution_count": 27,
   "id": "e49d2278",
   "metadata": {},
   "outputs": [],
   "source": [
    "def isPrime(number):\n",
    "    isprime = 1 #sets default to prime\n",
    "    for object in range(2 , int(number)):\n",
    "        \n",
    "        if number % object == 0:\n",
    "            isprime = 0\n",
    "            break\n",
    "        \n",
    "    if isprime == 1 and number>1:\n",
    "        return \"it is a prime number\"\n",
    "    else:\n",
    "        return \"it is not a prime number\""
   ]
  },
  {
   "cell_type": "code",
   "execution_count": 28,
   "id": "465845e8",
   "metadata": {},
   "outputs": [
    {
     "data": {
      "text/plain": [
       "'it is a prime number'"
      ]
     },
     "execution_count": 28,
     "metadata": {},
     "output_type": "execute_result"
    }
   ],
   "source": [
    "isPrime(5)"
   ]
  },
  {
   "cell_type": "code",
   "execution_count": 29,
   "id": "ff05915a",
   "metadata": {},
   "outputs": [
    {
     "data": {
      "text/plain": [
       "'it is a prime number'"
      ]
     },
     "execution_count": 29,
     "metadata": {},
     "output_type": "execute_result"
    }
   ],
   "source": [
    "isPrime(3)"
   ]
  },
  {
   "cell_type": "code",
   "execution_count": 30,
   "id": "76e934ad",
   "metadata": {},
   "outputs": [
    {
     "data": {
      "text/plain": [
       "'it is not a prime number'"
      ]
     },
     "execution_count": 30,
     "metadata": {},
     "output_type": "execute_result"
    }
   ],
   "source": [
    "isPrime(24)"
   ]
  },
  {
   "cell_type": "code",
   "execution_count": 31,
   "id": "5701f4d2",
   "metadata": {},
   "outputs": [
    {
     "data": {
      "text/plain": [
       "'it is not a prime number'"
      ]
     },
     "execution_count": 31,
     "metadata": {},
     "output_type": "execute_result"
    }
   ],
   "source": [
    "isPrime(0)"
   ]
  },
  {
   "cell_type": "code",
   "execution_count": 32,
   "id": "a07303f8",
   "metadata": {},
   "outputs": [
    {
     "data": {
      "text/plain": [
       "'it is not a prime number'"
      ]
     },
     "execution_count": 32,
     "metadata": {},
     "output_type": "execute_result"
    }
   ],
   "source": [
    "isPrime(1)"
   ]
  },
  {
   "cell_type": "code",
   "execution_count": 33,
   "id": "324497ab",
   "metadata": {},
   "outputs": [
    {
     "data": {
      "text/plain": [
       "'it is not a prime number'"
      ]
     },
     "execution_count": 33,
     "metadata": {},
     "output_type": "execute_result"
    }
   ],
   "source": [
    "isPrime(4)"
   ]
  },
  {
   "cell_type": "markdown",
   "id": "1ab52ea5",
   "metadata": {},
   "source": [
    "# program 3 "
   ]
  },
  {
   "cell_type": "code",
   "execution_count": null,
   "id": "24908819",
   "metadata": {},
   "outputs": [],
   "source": []
  },
  {
   "cell_type": "code",
   "execution_count": 22,
   "id": "6327cbfe",
   "metadata": {},
   "outputs": [],
   "source": [
    "def function_3():\n",
    "    sum =0 \n",
    "    for obj in range(1, 100):\n",
    "        if obj % 2 !=0:\n",
    "            print(obj)\n",
    "        else:\n",
    "            sum += obj\n",
    "    return \"the sum of evens: \" + str(sum)\n",
    "            "
   ]
  },
  {
   "cell_type": "code",
   "execution_count": 23,
   "id": "21bcb27f",
   "metadata": {},
   "outputs": [
    {
     "name": "stdout",
     "output_type": "stream",
     "text": [
      "1\n",
      "3\n",
      "5\n",
      "7\n",
      "9\n",
      "11\n",
      "13\n",
      "15\n",
      "17\n",
      "19\n",
      "21\n",
      "23\n",
      "25\n",
      "27\n",
      "29\n",
      "31\n",
      "33\n",
      "35\n",
      "37\n",
      "39\n",
      "41\n",
      "43\n",
      "45\n",
      "47\n",
      "49\n",
      "51\n",
      "53\n",
      "55\n",
      "57\n",
      "59\n",
      "61\n",
      "63\n",
      "65\n",
      "67\n",
      "69\n",
      "71\n",
      "73\n",
      "75\n",
      "77\n",
      "79\n",
      "81\n",
      "83\n",
      "85\n",
      "87\n",
      "89\n",
      "91\n",
      "93\n",
      "95\n",
      "97\n",
      "99\n",
      "the sum of evens: 2450\n"
     ]
    }
   ],
   "source": [
    "print(function_3())"
   ]
  },
  {
   "cell_type": "markdown",
   "id": "4ee705f8",
   "metadata": {},
   "source": [
    "# program  4"
   ]
  },
  {
   "cell_type": "code",
   "execution_count": 20,
   "id": "7dee7fbc",
   "metadata": {},
   "outputs": [],
   "source": [
    "def function_4(a  , b):\n",
    "    \n",
    "    \n",
    "    if(type(a) == float or type(a) == int):\n",
    "        if(type(b) == float or type(b) == int):\n",
    "            return a+b\n",
    "    \n",
    "    \n",
    "    \n",
    "    return str(a)+str(b)"
   ]
  },
  {
   "cell_type": "code",
   "execution_count": 21,
   "id": "a8f1b7b0",
   "metadata": {},
   "outputs": [
    {
     "data": {
      "text/plain": [
       "'2334hello'"
      ]
     },
     "execution_count": 21,
     "metadata": {},
     "output_type": "execute_result"
    }
   ],
   "source": [
    "function_4(2334 , \"hello\")"
   ]
  },
  {
   "cell_type": "code",
   "execution_count": 43,
   "id": "a2497c8f",
   "metadata": {},
   "outputs": [
    {
     "data": {
      "text/plain": [
       "'12.21ergeg'"
      ]
     },
     "execution_count": 43,
     "metadata": {},
     "output_type": "execute_result"
    }
   ],
   "source": [
    "function_4(12.21 , \"ergeg\")"
   ]
  },
  {
   "cell_type": "code",
   "execution_count": 22,
   "id": "e9996313",
   "metadata": {},
   "outputs": [
    {
     "data": {
      "text/plain": [
       "336"
      ]
     },
     "execution_count": 22,
     "metadata": {},
     "output_type": "execute_result"
    }
   ],
   "source": [
    "function_4(213,123)"
   ]
  },
  {
   "cell_type": "code",
   "execution_count": 23,
   "id": "9123e049",
   "metadata": {},
   "outputs": [
    {
     "data": {
      "text/plain": [
       "35.843"
      ]
     },
     "execution_count": 23,
     "metadata": {},
     "output_type": "execute_result"
    }
   ],
   "source": [
    "function_4(3.32, 32.523)"
   ]
  },
  {
   "cell_type": "code",
   "execution_count": 13,
   "id": "9b6a6301",
   "metadata": {},
   "outputs": [
    {
     "data": {
      "text/plain": [
       "35.2"
      ]
     },
     "execution_count": 13,
     "metadata": {},
     "output_type": "execute_result"
    }
   ],
   "source": [
    "function_4(12.2 , 23)"
   ]
  },
  {
   "cell_type": "code",
   "execution_count": 24,
   "id": "068a344e",
   "metadata": {},
   "outputs": [
    {
     "data": {
      "text/plain": [
       "123.34"
      ]
     },
     "execution_count": 24,
     "metadata": {},
     "output_type": "execute_result"
    }
   ],
   "source": [
    "function_4(121 , 2.34)"
   ]
  },
  {
   "cell_type": "code",
   "execution_count": 14,
   "id": "e4f53460",
   "metadata": {},
   "outputs": [
    {
     "data": {
      "text/plain": [
       "'abbababasitaram'"
      ]
     },
     "execution_count": 14,
     "metadata": {},
     "output_type": "execute_result"
    }
   ],
   "source": [
    "function_4(\"abbababa\" ,\"sitaram\" ) "
   ]
  },
  {
   "cell_type": "code",
   "execution_count": 15,
   "id": "2036d1fb",
   "metadata": {},
   "outputs": [
    {
     "data": {
      "text/plain": [
       "'1223234234234'"
      ]
     },
     "execution_count": 15,
     "metadata": {},
     "output_type": "execute_result"
    }
   ],
   "source": [
    "function_4(12 , \"23234234234\")"
   ]
  },
  {
   "cell_type": "markdown",
   "id": "cae103e4",
   "metadata": {},
   "source": [
    "# program 5"
   ]
  },
  {
   "cell_type": "code",
   "execution_count": 17,
   "id": "828cc20f",
   "metadata": {},
   "outputs": [],
   "source": [
    "def function_5(inputvar):\n",
    "    vowel = 0\n",
    "    consonant = 0\n",
    "    for char in inputvar:\n",
    "        \n",
    "        if str.lower(char) in ['a','e','i','o' , 'u']:\n",
    "            vowel+=1\n",
    "        else:\n",
    "            consonant += 1\n",
    "    return f\"number of consonants {consonant} and number of vowels are {vowel} \""
   ]
  },
  {
   "cell_type": "code",
   "execution_count": 18,
   "id": "7a6e9ded",
   "metadata": {},
   "outputs": [
    {
     "data": {
      "text/plain": [
       "'number of consonants 4 and number of vowels are 3 '"
      ]
     },
     "execution_count": 18,
     "metadata": {},
     "output_type": "execute_result"
    }
   ],
   "source": [
    "function_5(\"sitaram\")"
   ]
  },
  {
   "cell_type": "code",
   "execution_count": 19,
   "id": "075c5775",
   "metadata": {},
   "outputs": [
    {
     "data": {
      "text/plain": [
       "'number of consonants 4 and number of vowels are 3 '"
      ]
     },
     "execution_count": 19,
     "metadata": {},
     "output_type": "execute_result"
    }
   ],
   "source": [
    "function_5(\"MaNipal\")"
   ]
  },
  {
   "cell_type": "markdown",
   "id": "0a94cb55",
   "metadata": {},
   "source": [
    "# PALINDROME"
   ]
  },
  {
   "cell_type": "code",
   "execution_count": 30,
   "id": "e9cf1557",
   "metadata": {},
   "outputs": [],
   "source": [
    "def is_Palindrome(string1):\n",
    "  # 2 pointer approach  \n",
    "   \n",
    "    right = len(string1)-1\n",
    "    \n",
    "    for i in range(0 , len(string1)):\n",
    "        if string1[i] == string1[right]:\n",
    "            right -= 1\n",
    "        else:\n",
    "            return \"its not a palindrome\"\n",
    "        \n",
    "    return \"it is a palindrome\""
   ]
  },
  {
   "cell_type": "code",
   "execution_count": 31,
   "id": "4996bd9a",
   "metadata": {},
   "outputs": [
    {
     "data": {
      "text/plain": [
       "'it is a palindrome'"
      ]
     },
     "execution_count": 31,
     "metadata": {},
     "output_type": "execute_result"
    }
   ],
   "source": [
    "is_Palindrome(\"naman\")"
   ]
  },
  {
   "cell_type": "code",
   "execution_count": 32,
   "id": "c75395b8",
   "metadata": {},
   "outputs": [
    {
     "data": {
      "text/plain": [
       "'its not a palindrome'"
      ]
     },
     "execution_count": 32,
     "metadata": {},
     "output_type": "execute_result"
    }
   ],
   "source": [
    "is_Palindrome(\"abababef\")"
   ]
  },
  {
   "cell_type": "code",
   "execution_count": 33,
   "id": "ec7ea8ab",
   "metadata": {},
   "outputs": [
    {
     "data": {
      "text/plain": [
       "'its not a palindrome'"
      ]
     },
     "execution_count": 33,
     "metadata": {},
     "output_type": "execute_result"
    }
   ],
   "source": [
    "is_Palindrome(\"sitaram\")"
   ]
  },
  {
   "cell_type": "code",
   "execution_count": 34,
   "id": "43a0e200",
   "metadata": {},
   "outputs": [
    {
     "data": {
      "text/plain": [
       "'it is a palindrome'"
      ]
     },
     "execution_count": 34,
     "metadata": {},
     "output_type": "execute_result"
    }
   ],
   "source": [
    "is_Palindrome(\"aaaabaaaa\")"
   ]
  },
  {
   "cell_type": "markdown",
   "id": "5be25664",
   "metadata": {},
   "source": [
    "# Patterns"
   ]
  },
  {
   "cell_type": "code",
   "execution_count": 113,
   "id": "32972354",
   "metadata": {},
   "outputs": [
    {
     "name": "stdout",
     "output_type": "stream",
     "text": [
      "*****\n",
      "\n",
      "****\n",
      "\n",
      "***\n",
      "\n",
      "**\n",
      "\n",
      "*\n",
      "\n"
     ]
    }
   ],
   "source": [
    "for obj in range(0 ,5):\n",
    "    \n",
    "    \n",
    "    for i in range(5 , obj , -1):\n",
    "        print(\"*\" , end = \"\")\n",
    "    print(\"\\n\")"
   ]
  },
  {
   "cell_type": "code",
   "execution_count": 119,
   "id": "c6d6315f",
   "metadata": {},
   "outputs": [
    {
     "name": "stdout",
     "output_type": "stream",
     "text": [
      " \n",
      " \n",
      " \n",
      " \n",
      " \n",
      "\n",
      "\n",
      " \n",
      " \n",
      " \n",
      " \n",
      " \n",
      "*\n",
      "\n",
      " \n",
      " \n",
      " \n",
      " \n",
      " \n",
      "**\n",
      "\n",
      " \n",
      " \n",
      " \n",
      " \n",
      " \n",
      "***\n",
      "\n",
      " \n",
      " \n",
      " \n",
      " \n",
      " \n",
      "****\n",
      "\n"
     ]
    }
   ],
   "source": [
    "for obj in range(0 ,5):\n",
    "    \n",
    "    for m in range(0 , 5):\n",
    "        print(\" \")\n",
    "    for i in range(5-obj , 5 , 1):\n",
    "        print(\"*\" , end = \"\")\n",
    "\n",
    "    print(\"\\n\")"
   ]
  },
  {
   "cell_type": "code",
   "execution_count": null,
   "id": "941391d7",
   "metadata": {},
   "outputs": [],
   "source": []
  },
  {
   "cell_type": "markdown",
   "id": "19752072",
   "metadata": {},
   "source": [
    "# reversal of string"
   ]
  },
  {
   "cell_type": "code",
   "execution_count": 110,
   "id": "17439308",
   "metadata": {},
   "outputs": [
    {
     "data": {
      "text/plain": [
       "'tset'"
      ]
     },
     "execution_count": 110,
     "metadata": {},
     "output_type": "execute_result"
    }
   ],
   "source": [
    "#using a stack\n",
    "\n",
    "def reverse_string(variable):\n",
    "    variablearray = []\n",
    "\n",
    "    for char in variable:\n",
    "        \n",
    "        variablearray.append(char)\n",
    "    reversearray = ''\n",
    "\n",
    "    while len(variablearray) != 0:\n",
    "        reversearray += variablearray.pop()\n",
    "        \n",
    "        \n",
    "    return reversearray\n",
    "reverse_string(\"test\")"
   ]
  },
  {
   "cell_type": "code",
   "execution_count": 111,
   "id": "689dea7f",
   "metadata": {},
   "outputs": [
    {
     "data": {
      "text/plain": [
       "'maratis'"
      ]
     },
     "execution_count": 111,
     "metadata": {},
     "output_type": "execute_result"
    }
   ],
   "source": [
    "reverse_string(\"sitaram\")"
   ]
  },
  {
   "cell_type": "code",
   "execution_count": 106,
   "id": "a1876d92",
   "metadata": {},
   "outputs": [
    {
     "name": "stdout",
     "output_type": "stream",
     "text": [
      "maratis\n"
     ]
    }
   ],
   "source": [
    "a='sitaram'\n",
    "print(a[::-1])"
   ]
  },
  {
   "cell_type": "code",
   "execution_count": null,
   "id": "de561897",
   "metadata": {},
   "outputs": [],
   "source": []
  }
 ],
 "metadata": {
  "kernelspec": {
   "display_name": "Python 3 (ipykernel)",
   "language": "python",
   "name": "python3"
  },
  "language_info": {
   "codemirror_mode": {
    "name": "ipython",
    "version": 3
   },
   "file_extension": ".py",
   "mimetype": "text/x-python",
   "name": "python",
   "nbconvert_exporter": "python",
   "pygments_lexer": "ipython3",
   "version": "3.9.13"
  }
 },
 "nbformat": 4,
 "nbformat_minor": 5
}
