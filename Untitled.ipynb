{
 "cells": [
  {
   "cell_type": "code",
   "execution_count": 1,
   "id": "cf31c09d",
   "metadata": {},
   "outputs": [
    {
     "data": {
      "text/plain": [
       "(4, 5, 6)"
      ]
     },
     "execution_count": 1,
     "metadata": {},
     "output_type": "execute_result"
    }
   ],
   "source": [
    "tup = 4,5,6 # without parenthesis its considered a tuple\n",
    "tup"
   ]
  },
  {
   "cell_type": "code",
   "execution_count": 2,
   "id": "fd30471d",
   "metadata": {},
   "outputs": [
    {
     "data": {
      "text/plain": [
       "(4, 5, 6)"
      ]
     },
     "execution_count": 2,
     "metadata": {},
     "output_type": "execute_result"
    }
   ],
   "source": [
    "tup = (4,5,6) #paranthesis for tuple\n",
    "tup"
   ]
  },
  {
   "cell_type": "markdown",
   "id": "a772577a",
   "metadata": {},
   "source": [
    "#### tuples are immutable arrays\n"
   ]
  },
  {
   "cell_type": "code",
   "execution_count": 3,
   "id": "16e45840",
   "metadata": {},
   "outputs": [],
   "source": [
    "tup = tuple([4, 0, 2]) ##this is how u convert a python list to a tuple"
   ]
  },
  {
   "cell_type": "code",
   "execution_count": 4,
   "id": "f57d2b76",
   "metadata": {},
   "outputs": [
    {
     "data": {
      "text/plain": [
       "(4, 0, 2)"
      ]
     },
     "execution_count": 4,
     "metadata": {},
     "output_type": "execute_result"
    }
   ],
   "source": [
    "tup"
   ]
  },
  {
   "cell_type": "code",
   "execution_count": 5,
   "id": "7510056b",
   "metadata": {},
   "outputs": [
    {
     "data": {
      "text/plain": [
       "('s', 'i', 't', 'a', 'r', 'a', 'm')"
      ]
     },
     "execution_count": 5,
     "metadata": {},
     "output_type": "execute_result"
    }
   ],
   "source": [
    "#converting a string to a character tuple\n",
    "tup = tuple(\"sitaram\")\n",
    "tup"
   ]
  },
  {
   "cell_type": "code",
   "execution_count": 7,
   "id": "7d0b33dd",
   "metadata": {},
   "outputs": [
    {
     "data": {
      "text/plain": [
       "'r'"
      ]
     },
     "execution_count": 7,
     "metadata": {},
     "output_type": "execute_result"
    }
   ],
   "source": [
    "tup[4] #this is how u access an element "
   ]
  },
  {
   "cell_type": "code",
   "execution_count": 8,
   "id": "219dcf9a",
   "metadata": {},
   "outputs": [
    {
     "data": {
      "text/plain": [
       "str"
      ]
     },
     "execution_count": 8,
     "metadata": {},
     "output_type": "execute_result"
    }
   ],
   "source": [
    "type(tup[4])"
   ]
  },
  {
   "cell_type": "markdown",
   "id": "07ef7120",
   "metadata": {},
   "source": [
    "### nested tuples"
   ]
  },
  {
   "cell_type": "code",
   "execution_count": null,
   "id": "a7987d2d",
   "metadata": {},
   "outputs": [],
   "source": [
    "nested_tup = (4,5,6) , (7,8)\n",
    "\n",
    "print(nested)"
   ]
  }
 ],
 "metadata": {
  "kernelspec": {
   "display_name": "Python 3 (ipykernel)",
   "language": "python",
   "name": "python3"
  },
  "language_info": {
   "codemirror_mode": {
    "name": "ipython",
    "version": 3
   },
   "file_extension": ".py",
   "mimetype": "text/x-python",
   "name": "python",
   "nbconvert_exporter": "python",
   "pygments_lexer": "ipython3",
   "version": "3.9.13"
  }
 },
 "nbformat": 4,
 "nbformat_minor": 5
}
