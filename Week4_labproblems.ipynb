{
 "cells": [
  {
   "cell_type": "markdown",
   "id": "36b18bad",
   "metadata": {},
   "source": [
    "# 1. Create a Series from a list of integers representing daily \n",
    "# temperatures (in Celsius) over a week. Assign index labels as day \n",
    "# of the week. \n",
    "a. Find and print the average (mean) temperature for the week. \n",
    "\n",
    "b. Identify and print the maximum and minimum temperatures \n",
    "and their respective days. \n",
    "\n",
    "c. Display the temperatures greater than a specific value.\n",
    "\n",
    "d. Convert all temperatures to Fahrenheit. \n",
    "\n",
    "e. Print the days had temperatures above the average. \n",
    "\n",
    "\n",
    "\n",
    "\n",
    "\n",
    "## 2. Create a data frame with details of 10 students and columns as \n",
    "## Roll Number, Name, Gender, Marks1, Marks2, Marks3. \n",
    "a. Create a new column with total marks \n",
    "\n",
    "b. Find the lowest marks in Marks1 \n",
    "\n",
    "c. Find the Highest marks in Marks2 \n",
    "\n",
    "d. Find the average marks in Marks3 \n",
    "\n",
    "e. Find student name with highest average \n",
    "\n",
    "f. Find how many students failed in Marks2 (<40)\n"
   ]
  },
  {
   "cell_type": "markdown",
   "id": "96d38e8e",
   "metadata": {},
   "source": [
    "## Problem 1"
   ]
  },
  {
   "cell_type": "code",
   "execution_count": 1,
   "id": "ac0d2073",
   "metadata": {},
   "outputs": [
    {
     "data": {
      "text/plain": [
       "sunday       23\n",
       "monday       25\n",
       "tuesday      24\n",
       "wednesday    26\n",
       "thursday     27\n",
       "friday       28\n",
       "saturday     30\n",
       "dtype: int64"
      ]
     },
     "execution_count": 1,
     "metadata": {},
     "output_type": "execute_result"
    }
   ],
   "source": [
    "#sitaram dubagunta , PC 50 , 240911624\n",
    "\n",
    "import pandas as pd\n",
    "import numpy as np\n",
    "\n",
    "temp = [23,25,24,26,27,28,30]\n",
    "temp = pd.Series(temp , index = [\"sunday\" , \"monday\" , \"tuesday\" ,\"wednesday\" ,\"thursday\" ,\"friday\",\"saturday\"])\n",
    "temp"
   ]
  },
  {
   "cell_type": "code",
   "execution_count": 2,
   "id": "ecadb12b",
   "metadata": {},
   "outputs": [
    {
     "name": "stdout",
     "output_type": "stream",
     "text": [
      "average temperature of the week 26.142857142857142\n"
     ]
    }
   ],
   "source": [
    "average_temp = temp.mean()\n",
    "print(\"average temperature of the week\" ,  average_temp)"
   ]
  },
  {
   "cell_type": "code",
   "execution_count": 3,
   "id": "7bad9776",
   "metadata": {},
   "outputs": [
    {
     "name": "stdout",
     "output_type": "stream",
     "text": [
      "maximum temperature of the week 30\n"
     ]
    }
   ],
   "source": [
    "max_temp = temp.max()\n",
    "print(\"maximum temperature of the week\" , max_temp)"
   ]
  },
  {
   "cell_type": "code",
   "execution_count": 4,
   "id": "2530069f",
   "metadata": {},
   "outputs": [
    {
     "name": "stdout",
     "output_type": "stream",
     "text": [
      "minimum temperature of the week 23\n"
     ]
    }
   ],
   "source": [
    "min_temp = temp.min()\n",
    "print(\"minimum temperature of the week\" , min_temp)"
   ]
  },
  {
   "cell_type": "code",
   "execution_count": 5,
   "id": "25240b2a",
   "metadata": {},
   "outputs": [
    {
     "data": {
      "text/plain": [
       "wednesday    26\n",
       "thursday     27\n",
       "friday       28\n",
       "saturday     30\n",
       "dtype: int64"
      ]
     },
     "execution_count": 5,
     "metadata": {},
     "output_type": "execute_result"
    }
   ],
   "source": [
    "#displaying the temperatures from the series that are greatre than 25\n",
    "\n",
    "temp.loc[temp > 25]"
   ]
  },
  {
   "cell_type": "code",
   "execution_count": 6,
   "id": "53f796d9",
   "metadata": {},
   "outputs": [],
   "source": [
    "temp = temp*(1.8) +32"
   ]
  },
  {
   "cell_type": "code",
   "execution_count": 7,
   "id": "13836192",
   "metadata": {},
   "outputs": [
    {
     "data": {
      "text/plain": [
       "sunday       73.4\n",
       "monday       77.0\n",
       "tuesday      75.2\n",
       "wednesday    78.8\n",
       "thursday     80.6\n",
       "friday       82.4\n",
       "saturday     86.0\n",
       "dtype: float64"
      ]
     },
     "execution_count": 7,
     "metadata": {},
     "output_type": "execute_result"
    }
   ],
   "source": [
    "temp"
   ]
  },
  {
   "cell_type": "code",
   "execution_count": 8,
   "id": "acc92b8c",
   "metadata": {},
   "outputs": [
    {
     "data": {
      "text/plain": [
       "thursday    80.6\n",
       "friday      82.4\n",
       "saturday    86.0\n",
       "dtype: float64"
      ]
     },
     "execution_count": 8,
     "metadata": {},
     "output_type": "execute_result"
    }
   ],
   "source": [
    "temp.loc[temp > temp.mean()]"
   ]
  },
  {
   "cell_type": "markdown",
   "id": "cd9cfcca",
   "metadata": {},
   "source": [
    "## Problem 2"
   ]
  },
  {
   "cell_type": "code",
   "execution_count": 14,
   "id": "26a0e075",
   "metadata": {},
   "outputs": [],
   "source": [
    "students  = pd.DataFrame({\"rollnumber\" : [1,2,3,4,5,6,7,8,9,10] , \"name\":['a','b','c','d','e','f','g','h','i','j'] , \"gender\":['m','m','m','m','m','f','f','f','m','f'] , 'marks1' : [1,2,3,4,5,6,7,8,9,10]})"
   ]
  },
  {
   "cell_type": "code",
   "execution_count": 15,
   "id": "4c223d1a",
   "metadata": {},
   "outputs": [
    {
     "data": {
      "text/html": [
       "<div>\n",
       "<style scoped>\n",
       "    .dataframe tbody tr th:only-of-type {\n",
       "        vertical-align: middle;\n",
       "    }\n",
       "\n",
       "    .dataframe tbody tr th {\n",
       "        vertical-align: top;\n",
       "    }\n",
       "\n",
       "    .dataframe thead th {\n",
       "        text-align: right;\n",
       "    }\n",
       "</style>\n",
       "<table border=\"1\" class=\"dataframe\">\n",
       "  <thead>\n",
       "    <tr style=\"text-align: right;\">\n",
       "      <th></th>\n",
       "      <th>rollnumber</th>\n",
       "      <th>name</th>\n",
       "      <th>gender</th>\n",
       "      <th>marks1</th>\n",
       "    </tr>\n",
       "  </thead>\n",
       "  <tbody>\n",
       "    <tr>\n",
       "      <th>0</th>\n",
       "      <td>1</td>\n",
       "      <td>a</td>\n",
       "      <td>m</td>\n",
       "      <td>1</td>\n",
       "    </tr>\n",
       "    <tr>\n",
       "      <th>1</th>\n",
       "      <td>2</td>\n",
       "      <td>b</td>\n",
       "      <td>m</td>\n",
       "      <td>2</td>\n",
       "    </tr>\n",
       "    <tr>\n",
       "      <th>2</th>\n",
       "      <td>3</td>\n",
       "      <td>c</td>\n",
       "      <td>m</td>\n",
       "      <td>3</td>\n",
       "    </tr>\n",
       "    <tr>\n",
       "      <th>3</th>\n",
       "      <td>4</td>\n",
       "      <td>d</td>\n",
       "      <td>m</td>\n",
       "      <td>4</td>\n",
       "    </tr>\n",
       "    <tr>\n",
       "      <th>4</th>\n",
       "      <td>5</td>\n",
       "      <td>e</td>\n",
       "      <td>m</td>\n",
       "      <td>5</td>\n",
       "    </tr>\n",
       "    <tr>\n",
       "      <th>5</th>\n",
       "      <td>6</td>\n",
       "      <td>f</td>\n",
       "      <td>f</td>\n",
       "      <td>6</td>\n",
       "    </tr>\n",
       "    <tr>\n",
       "      <th>6</th>\n",
       "      <td>7</td>\n",
       "      <td>g</td>\n",
       "      <td>f</td>\n",
       "      <td>7</td>\n",
       "    </tr>\n",
       "    <tr>\n",
       "      <th>7</th>\n",
       "      <td>8</td>\n",
       "      <td>h</td>\n",
       "      <td>f</td>\n",
       "      <td>8</td>\n",
       "    </tr>\n",
       "    <tr>\n",
       "      <th>8</th>\n",
       "      <td>9</td>\n",
       "      <td>i</td>\n",
       "      <td>m</td>\n",
       "      <td>9</td>\n",
       "    </tr>\n",
       "    <tr>\n",
       "      <th>9</th>\n",
       "      <td>10</td>\n",
       "      <td>j</td>\n",
       "      <td>f</td>\n",
       "      <td>10</td>\n",
       "    </tr>\n",
       "  </tbody>\n",
       "</table>\n",
       "</div>"
      ],
      "text/plain": [
       "   rollnumber name gender  marks1\n",
       "0           1    a      m       1\n",
       "1           2    b      m       2\n",
       "2           3    c      m       3\n",
       "3           4    d      m       4\n",
       "4           5    e      m       5\n",
       "5           6    f      f       6\n",
       "6           7    g      f       7\n",
       "7           8    h      f       8\n",
       "8           9    i      m       9\n",
       "9          10    j      f      10"
      ]
     },
     "execution_count": 15,
     "metadata": {},
     "output_type": "execute_result"
    }
   ],
   "source": [
    "students"
   ]
  },
  {
   "cell_type": "code",
   "execution_count": null,
   "id": "4742ee4f",
   "metadata": {},
   "outputs": [],
   "source": []
  }
 ],
 "metadata": {
  "kernelspec": {
   "display_name": "Python 3 (ipykernel)",
   "language": "python",
   "name": "python3"
  },
  "language_info": {
   "codemirror_mode": {
    "name": "ipython",
    "version": 3
   },
   "file_extension": ".py",
   "mimetype": "text/x-python",
   "name": "python",
   "nbconvert_exporter": "python",
   "pygments_lexer": "ipython3",
   "version": "3.9.13"
  }
 },
 "nbformat": 4,
 "nbformat_minor": 5
}
