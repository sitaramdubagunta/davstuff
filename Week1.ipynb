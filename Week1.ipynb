{
 "cells": [
  {
   "cell_type": "code",
   "execution_count": 1,
   "id": "0a96bbee",
   "metadata": {},
   "outputs": [],
   "source": [
    "# Data Visualization\n",
    "# Btech Computer Science Stream , January  2025\n",
    "# Week 1 python language ,Demonstration\n",
    "# Sitaram dubagunta , Btech in Information technology , PC , roll number 50\n",
    "# Date - 03-01-2025  , 240968376\n"
   ]
  },
  {
   "cell_type": "code",
   "execution_count": 1,
   "id": "3e789039",
   "metadata": {},
   "outputs": [
    {
     "name": "stdout",
     "output_type": "stream",
     "text": [
      "Hello World\n"
     ]
    }
   ],
   "source": [
    "print('Hello World')"
   ]
  },
  {
   "cell_type": "code",
   "execution_count": 3,
   "id": "f911ee24",
   "metadata": {},
   "outputs": [
    {
     "name": "stdout",
     "output_type": "stream",
     "text": [
      "var_C= 5\n"
     ]
    }
   ],
   "source": [
    "# Python Language Basics - Dynamic references  , strong types: Varianbles no inherent type , \n",
    "# Scalar Data Types - Integer\n",
    "#use variables with snake casing or camel casing\n",
    "var_A = 2\n",
    "var_B = 3\n",
    "var_C = var_A + var_B\n",
    "print(\"var_C=\" ,var_C)"
   ]
  },
  {
   "cell_type": "code",
   "execution_count": 4,
   "id": "b11662ed",
   "metadata": {},
   "outputs": [
    {
     "name": "stdout",
     "output_type": "stream",
     "text": [
      "0.6666666666666666\n",
      "0\n"
     ]
    }
   ],
   "source": [
    "#Mathematical Operations\n",
    "print(var_A/var_B)#division operation\n",
    "print(var_A//var_B) #floor division operation"
   ]
  },
  {
   "cell_type": "code",
   "execution_count": 5,
   "id": "3f62fee4",
   "metadata": {},
   "outputs": [
    {
     "name": "stdout",
     "output_type": "stream",
     "text": [
      "0.345\n",
      "0.00068\n"
     ]
    }
   ],
   "source": [
    "#Scalar Data Types -Float\n",
    "var_fA = 0.345\n",
    "var_fB = 6.8e-4\n",
    "print(var_fA)\n",
    "print(var_fB)"
   ]
  },
  {
   "cell_type": "markdown",
   "id": "75062a08",
   "metadata": {},
   "source": [
    "## Strings "
   ]
  },
  {
   "cell_type": "code",
   "execution_count": 11,
   "id": "c175932d",
   "metadata": {},
   "outputs": [
    {
     "name": "stdout",
     "output_type": "stream",
     "text": [
      " \n",
      "String that can \n",
      "span\n",
      "Multiple\n",
      "lines\n",
      "\n",
      "number of spaces in the multi-line string:\n",
      "5\n"
     ]
    }
   ],
   "source": [
    "#Scalar Data Types - String\n",
    "var_strA = 'This is my first Python Class'\n",
    "var_strB = \"\"\" \n",
    "String that can \n",
    "span\n",
    "Multiple\n",
    "lines\n",
    "\"\"\"\n",
    "print(var_strB)\n",
    "print(\"number of spaces in the multi-line string:\")\n",
    "print(var_strB.count(\"\\n\"))\n"
   ]
  },
  {
   "cell_type": "code",
   "execution_count": 12,
   "id": "419534f0",
   "metadata": {},
   "outputs": [
    {
     "data": {
      "text/plain": [
       "'This is my second Python Class'"
      ]
     },
     "execution_count": 12,
     "metadata": {},
     "output_type": "execute_result"
    }
   ],
   "source": [
    "#Scalar data types - strings are immutable\n",
    "#String is a class , can see all supported methods\n",
    "var_strC = var_strA.replace('first' , 'second')\n",
    "var_strC"
   ]
  },
  {
   "cell_type": "code",
   "execution_count": 24,
   "id": "e4979092",
   "metadata": {},
   "outputs": [],
   "source": [
    "#Scalar Data Type - Boolean\n",
    "var_BoolA = True\n",
    "var_BoolB = False\n",
    "var_BoolB?\n",
    "#question mark before/after the variable name would display information about the data type"
   ]
  },
  {
   "cell_type": "code",
   "execution_count": 28,
   "id": "3fc063b8",
   "metadata": {},
   "outputs": [
    {
     "name": "stdout",
     "output_type": "stream",
     "text": [
      "True\n",
      "<class 'bool'>\n"
     ]
    }
   ],
   "source": [
    "# Python language basics - Python strongly typed language\n",
    "var_Int = 1\n",
    "var_BoolC = bool(var_Int)\n",
    "print(var_BoolC)\n",
    "print(type(var_BoolC))"
   ]
  },
  {
   "cell_type": "code",
   "execution_count": 30,
   "id": "77b4a373",
   "metadata": {},
   "outputs": [
    {
     "name": "stdout",
     "output_type": "stream",
     "text": [
      "2\n",
      "<class 'int'> <class 'bool'>\n"
     ]
    }
   ],
   "source": [
    "print(var_BoolC + var_Int) #automatic type casting between bool and integer\n",
    "print(type(var_Int) , type(var_BoolC))"
   ]
  },
  {
   "cell_type": "markdown",
   "id": "9e8607f8",
   "metadata": {},
   "source": [
    "### functions"
   ]
  },
  {
   "cell_type": "code",
   "execution_count": 31,
   "id": "91ac1ed2",
   "metadata": {},
   "outputs": [],
   "source": [
    "#none in python is for null values\n",
    "\n",
    "def fn_add_maybe_multiply(var_a , var_b, var_c = None):\n",
    "    result = var_a +var_b\n",
    "    \n",
    "    \n",
    "    \n",
    "    if var_c is not None:\n",
    "        result = var_c*result\n",
    "        \n",
    "    return result"
   ]
  },
  {
   "cell_type": "code",
   "execution_count": 41,
   "id": "05695650",
   "metadata": {},
   "outputs": [
    {
     "data": {
      "text/plain": [
       "8"
      ]
     },
     "execution_count": 41,
     "metadata": {},
     "output_type": "execute_result"
    }
   ],
   "source": [
    "\n",
    "\n",
    "fn_add_maybe_multiply(3,5,None)"
   ]
  },
  {
   "cell_type": "code",
   "execution_count": 33,
   "id": "6b8fc4c3",
   "metadata": {},
   "outputs": [
    {
     "data": {
      "text/plain": [
       "54"
      ]
     },
     "execution_count": 33,
     "metadata": {},
     "output_type": "execute_result"
    }
   ],
   "source": [
    "fn_add_maybe_multiply(4,5,6)"
   ]
  },
  {
   "cell_type": "code",
   "execution_count": 42,
   "id": "2026caf9",
   "metadata": {},
   "outputs": [],
   "source": [
    "fn_add_maybe_multiply?"
   ]
  },
  {
   "cell_type": "code",
   "execution_count": 43,
   "id": "7ef54f30",
   "metadata": {},
   "outputs": [
    {
     "data": {
      "text/plain": [
       "6"
      ]
     },
     "execution_count": 43,
     "metadata": {},
     "output_type": "execute_result"
    }
   ],
   "source": [
    "fn_add_maybe_multiply(2,4) #third parameter is set to None by default"
   ]
  },
  {
   "cell_type": "markdown",
   "id": "a26e4ee1",
   "metadata": {},
   "source": [
    "### conditional statements"
   ]
  },
  {
   "cell_type": "code",
   "execution_count": 46,
   "id": "3648ac92",
   "metadata": {},
   "outputs": [
    {
     "name": "stdout",
     "output_type": "stream",
     "text": [
      "its positive\n"
     ]
    }
   ],
   "source": [
    "var_x = 45\n",
    "\n",
    "if var_x < 0:\n",
    "    print(\"it's negetive\")\n",
    "elif var_x>0:\n",
    "    print(\"its positive\")\n",
    "else:\n",
    "    print(\"its 0\")"
   ]
  },
  {
   "cell_type": "code",
   "execution_count": 49,
   "id": "c72cb6a8",
   "metadata": {},
   "outputs": [
    {
     "name": "stdout",
     "output_type": "stream",
     "text": [
      "its positive but smaller than 5\n"
     ]
    }
   ],
   "source": [
    "var_x = 3\n",
    "\n",
    "if var_x < 0:\n",
    "    print(\"its negetive\")\n",
    "elif 0<var_x<5:\n",
    "    print(\"its positive but smaller than 5\")\n",
    "elif var_x == 0:\n",
    "    print(\"its zero\")\n",
    "else:\n",
    "    print(\"its greater than or equal to 5\")"
   ]
  },
  {
   "cell_type": "markdown",
   "id": "0f8a1aa5",
   "metadata": {},
   "source": [
    "### looping statements"
   ]
  },
  {
   "cell_type": "code",
   "execution_count": 66,
   "id": "4e3b91fb",
   "metadata": {},
   "outputs": [
    {
     "name": "stdout",
     "output_type": "stream",
     "text": [
      "13\n"
     ]
    }
   ],
   "source": [
    "list_A = [1,2, None , False , False,None,10]\n",
    "list_size = 0\n",
    "list_A_nonull =[]\n",
    "for object in list_A:\n",
    "    if object is None:\n",
    "        continue\n",
    "    list_A_nonull.append(object)\n",
    "    list_size += object\n",
    "print(list_size)"
   ]
  },
  {
   "cell_type": "code",
   "execution_count": 67,
   "id": "72f9f365",
   "metadata": {},
   "outputs": [
    {
     "data": {
      "text/plain": [
       "[1, 2, False, False, 10]"
      ]
     },
     "execution_count": 67,
     "metadata": {},
     "output_type": "execute_result"
    }
   ],
   "source": [
    "list_A_nonull"
   ]
  },
  {
   "cell_type": "code",
   "execution_count": 61,
   "id": "2ba73ccf",
   "metadata": {},
   "outputs": [
    {
     "data": {
      "text/plain": [
       "13"
      ]
     },
     "execution_count": 61,
     "metadata": {},
     "output_type": "execute_result"
    }
   ],
   "source": [
    "var_seqB = [1,2,0,4,6,5,2,1]\n",
    "var_tot_until_5 = 0\n",
    "\n",
    "for value in var_seqB:\n",
    "    if value == 5:\n",
    "        break\n",
    "    var_tot_until_5 += value\n",
    "var_tot_until_5"
   ]
  },
  {
   "cell_type": "code",
   "execution_count": 62,
   "id": "36f54719",
   "metadata": {},
   "outputs": [
    {
     "data": {
      "text/plain": [
       "504"
      ]
     },
     "execution_count": 62,
     "metadata": {},
     "output_type": "execute_result"
    }
   ],
   "source": [
    "# while loop\n",
    "\n",
    "var_x = 256\n",
    "var_total = 0 \n",
    "while var_x > 0:\n",
    "    if var_total > 500:\n",
    "        break\n",
    "    var_total  += var_x\n",
    "    var_x = var_x //2 #floor by 2\n",
    "var_total"
   ]
  },
  {
   "cell_type": "code",
   "execution_count": 70,
   "id": "9b06afc6",
   "metadata": {},
   "outputs": [],
   "source": [
    "var_x = 0 \n",
    "if var_x < 0:\n",
    "    print(\"its negetive\")\n",
    "elif var_x == 0:\n",
    "    pass # no - operation \n"
   ]
  },
  {
   "cell_type": "code",
   "execution_count": 71,
   "id": "8952fc58",
   "metadata": {},
   "outputs": [
    {
     "data": {
      "text/plain": [
       "[0, 1, 2, 3, 4, 5, 6, 7, 8, 9]"
      ]
     },
     "execution_count": 71,
     "metadata": {},
     "output_type": "execute_result"
    }
   ],
   "source": [
    "list(range(0,10,1)) # creates a list with a given range"
   ]
  },
  {
   "cell_type": "code",
   "execution_count": 73,
   "id": "c8b7040a",
   "metadata": {},
   "outputs": [
    {
     "data": {
      "text/plain": [
       "[0, 2, 4, 6, 8, 10, 12, 14, 16, 18]"
      ]
     },
     "execution_count": 73,
     "metadata": {},
     "output_type": "execute_result"
    }
   ],
   "source": [
    "list(range(0,20,2)) # creates a list with step 2"
   ]
  },
  {
   "cell_type": "code",
   "execution_count": 76,
   "id": "2540f5cf",
   "metadata": {},
   "outputs": [
    {
     "data": {
      "text/plain": [
       "[10, 9, 8, 7, 6, 5, 4, 3, 2]"
      ]
     },
     "execution_count": 76,
     "metadata": {},
     "output_type": "execute_result"
    }
   ],
   "source": [
    "list(range(10,1,-1)) # creates a list with descending order of -1"
   ]
  },
  {
   "cell_type": "code",
   "execution_count": 77,
   "id": "4ac34cc5",
   "metadata": {},
   "outputs": [
    {
     "name": "stdout",
     "output_type": "stream",
     "text": [
      "1\n",
      "2\n",
      "3\n",
      "4\n",
      "5\n",
      "6\n",
      "7\n"
     ]
    }
   ],
   "source": [
    "var_seq = [1,2,3,4,5,6,7]\n",
    "\n",
    "for obj in range(0 , len(var_seq)):\n",
    "    \n",
    "    print(var_seq[obj])"
   ]
  },
  {
   "cell_type": "code",
   "execution_count": 79,
   "id": "b6e50acc",
   "metadata": {
    "scrolled": true
   },
   "outputs": [
    {
     "name": "stdout",
     "output_type": "stream",
     "text": [
      "index: 0 value: 1\n",
      "index: 1 value: 2\n",
      "index: 2 value: 3\n",
      "index: 3 value: 4\n",
      "index: 4 value: 5\n",
      "index: 5 value: 6\n",
      "index: 6 value: 7\n"
     ]
    }
   ],
   "source": [
    "for i,obj in enumerate(var_seq):\n",
    "    print( \"index:\",i ,\"value:\", obj)"
   ]
  },
  {
   "cell_type": "code",
   "execution_count": null,
   "id": "5609f6be",
   "metadata": {},
   "outputs": [],
   "source": []
  }
 ],
 "metadata": {
  "kernelspec": {
   "display_name": "Python 3 (ipykernel)",
   "language": "python",
   "name": "python3"
  },
  "language_info": {
   "codemirror_mode": {
    "name": "ipython",
    "version": 3
   },
   "file_extension": ".py",
   "mimetype": "text/x-python",
   "name": "python",
   "nbconvert_exporter": "python",
   "pygments_lexer": "ipython3",
   "version": "3.9.13"
  }
 },
 "nbformat": 4,
 "nbformat_minor": 5
}
