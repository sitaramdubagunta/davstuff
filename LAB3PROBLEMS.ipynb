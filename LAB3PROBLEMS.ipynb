{
 "cells": [
  {
   "cell_type": "markdown",
   "id": "6cb1febc",
   "metadata": {},
   "source": [
    "Generate a 3x4 NumPy array with random integers between 1 \n",
    "and 50.  \n",
    "\n",
    "a. Calculate and print the Mean, Median, and Standard Deviation \n",
    "of the array\n",
    "\n",
    "b. Print the Sum of all elements and the sum of each row.\n",
    "\n",
    "c. Reshape the 3x4 array into a 2x6 array and print it. \n",
    "\n",
    "CO2 \n",
    "Page 11 of 13 \n",
    " \n",
    "2. Create two (3 * 3) matrices using NumPy and print it. Perform \n",
    "and print the results of the following linear algebra operations \n",
    "a. Matrix addition \n",
    "b. Matrix subtraction \n",
    "c. Matrix multiplication (element-wise and dot product) \n",
    "d. Transpose of a matrix \n",
    "e. Determinant and inverse (if applicable) "
   ]
  },
  {
   "cell_type": "markdown",
   "id": "e4e84de0",
   "metadata": {},
   "source": [
    "# problem 1"
   ]
  },
  {
   "cell_type": "code",
   "execution_count": 1,
   "id": "c46f209e",
   "metadata": {},
   "outputs": [
    {
     "name": "stdout",
     "output_type": "stream",
     "text": [
      "[[48 29 40 18]\n",
      " [14 33 15 37]\n",
      " [12 38 48 16]]\n"
     ]
    }
   ],
   "source": [
    "import numpy as np\n",
    "\n",
    "arr= [np.random.randint(1 ,50) for i in range(0,12)]# by using a list comprehension\n",
    "arr = np.array(arr)## converting it into a numpy array\n",
    "arr = arr.reshape([3,4])\n",
    "print(arr)"
   ]
  },
  {
   "cell_type": "markdown",
   "id": "ac25d674",
   "metadata": {},
   "source": [
    "##  problem a"
   ]
  },
  {
   "cell_type": "code",
   "execution_count": 2,
   "id": "0edd93c9",
   "metadata": {},
   "outputs": [
    {
     "name": "stdout",
     "output_type": "stream",
     "text": [
      "mean is: 29.0, median is: 31.0, std is: 12.922847983320086\n"
     ]
    }
   ],
   "source": [
    "mean = np.mean(arr)\n",
    "median = np.median(arr)\n",
    "std = np.std(arr)\n",
    "print(f\"mean is: {mean}, median is: {median}, std is: {std}\")"
   ]
  },
  {
   "cell_type": "markdown",
   "id": "96ae7777",
   "metadata": {},
   "source": [
    "##  problem b"
   ]
  },
  {
   "cell_type": "code",
   "execution_count": 3,
   "id": "2f6d8181",
   "metadata": {},
   "outputs": [
    {
     "name": "stdout",
     "output_type": "stream",
     "text": [
      "total sum equals 348  , the list of sum of the rows is [135, 99, 114]\n"
     ]
    }
   ],
   "source": [
    "total = 0\n",
    "row_sum = 0\n",
    "list_row_sum  = []\n",
    "for row in arr:\n",
    "   \n",
    "    for row_ele in row:\n",
    "        total += row_ele\n",
    "        row_sum += row_ele\n",
    "   \n",
    "    list_row_sum.append(row_sum)\n",
    "    row_sum = 0\n",
    "        \n",
    "    \n",
    "print(f\"total sum equals {total}  , the list of sum of the rows is {list_row_sum}\")"
   ]
  },
  {
   "cell_type": "markdown",
   "id": "84198372",
   "metadata": {},
   "source": [
    "## problem c"
   ]
  },
  {
   "cell_type": "code",
   "execution_count": 4,
   "id": "2d93fce0",
   "metadata": {},
   "outputs": [
    {
     "name": "stdout",
     "output_type": "stream",
     "text": [
      "[[48 29 40 18 14 33]\n",
      " [15 37 12 38 48 16]]\n"
     ]
    }
   ],
   "source": [
    "arr = arr.reshape(2,6)\n",
    "print(arr)"
   ]
  },
  {
   "cell_type": "markdown",
   "id": "9a50f2c7",
   "metadata": {},
   "source": [
    "# problem number 2"
   ]
  },
  {
   "cell_type": "code",
   "execution_count": 25,
   "id": "6d56e9c3",
   "metadata": {},
   "outputs": [],
   "source": [
    "def matrix_operations(lista , listb):\n",
    "    print(\"the first list A that has been entered is\\n\" , lista)\n",
    "    print(\"the second list B that has been entered is\\n\" , listb)\n",
    "    print(\"addition of 2 numpy arrays\\n\" , lista+listb)\n",
    "    print(\"subtraction of 2 numpy arrays\\n\" , lista - listb)\n",
    "    print(\"dot product of 2 matrices\\n\"  , np.dot(lista,listb))\n",
    "    print(\"row wise multiplication is\\n\" , np.matmul(lista,listb))\n",
    "    print(\"transpose of 2 matrices are\\n\" ,\"1st list\\n\", lista.T ,\"\\n\",\"2nd list\\n\", listb.T)\n",
    "    deta = np.linalg.det(lista)\n",
    "    detb = np.linalg.det(listb)\n",
    "    print(\"determinant of matrix A  is\" ,deta )\n",
    "    print(\"determinant of matrix B  is\" ,detb )\n",
    "    \n",
    "    if(deta != 0):\n",
    "        print(\"inverse of matrix A is \" , np.linalg.inv(lista))\n",
    "    if(detb != 0):\n",
    "        print(\"inverse of matrix B is\" , np.linalg.inv(listb))"
   ]
  },
  {
   "cell_type": "code",
   "execution_count": 26,
   "id": "51c50d1a",
   "metadata": {},
   "outputs": [
    {
     "name": "stdout",
     "output_type": "stream",
     "text": [
      "the first list A that has been entered is\n",
      " [[0 1 2]\n",
      " [3 4 5]\n",
      " [6 7 8]]\n",
      "the second list B that has been entered is\n",
      " [[ 2  3  4]\n",
      " [ 5  6  7]\n",
      " [ 8  9 10]]\n",
      "addition of 2 numpy arrays\n",
      " [[ 2  4  6]\n",
      " [ 8 10 12]\n",
      " [14 16 18]]\n",
      "subtraction of 2 numpy arrays\n",
      " [[-2 -2 -2]\n",
      " [-2 -2 -2]\n",
      " [-2 -2 -2]]\n",
      "dot product of 2 matrices\n",
      " [[ 21  24  27]\n",
      " [ 66  78  90]\n",
      " [111 132 153]]\n",
      "row wise multiplication is\n",
      " [[ 21  24  27]\n",
      " [ 66  78  90]\n",
      " [111 132 153]]\n",
      "transpose of 2 matrices are\n",
      " 1st list\n",
      " [[0 3 6]\n",
      " [1 4 7]\n",
      " [2 5 8]] \n",
      " 2nd list\n",
      " [[ 2  5  8]\n",
      " [ 3  6  9]\n",
      " [ 4  7 10]]\n",
      "determinant of matrix A  is 0.0\n",
      "determinant of matrix B  is 0.0\n"
     ]
    }
   ],
   "source": [
    "matrix_operations(np.arange(9).reshape(3,3) , np.arange(2 , 11).reshape(3,3))"
   ]
  },
  {
   "cell_type": "markdown",
   "id": "71f2317d",
   "metadata": {},
   "source": [
    "# magic square"
   ]
  },
  {
   "cell_type": "code",
   "execution_count": 51,
   "id": "aa34e755",
   "metadata": {},
   "outputs": [
    {
     "name": "stdout",
     "output_type": "stream",
     "text": [
      "True\n"
     ]
    }
   ],
   "source": [
    "def is_magic_square(square):\n",
    "    n = len(square)\n",
    "    sum_diag1 = sum(square[i][i] for i in range(n))\n",
    "    sum_diag2 = sum(square[i][n-1-i] for i in range(n))\n",
    "    \n",
    "    if sum_diag1 != sum_diag2:\n",
    "        return False\n",
    "    \n",
    "    for i in range(n):\n",
    "        if sum(square[i]) != sum_diag1:\n",
    "            return False\n",
    "        if sum(square[j][i] for j in range(n)) != sum_diag1:\n",
    "            return False\n",
    "    \n",
    "    return True\n",
    "\n",
    "square = [\n",
    "    [8, 1, 6],\n",
    "    [3, 5, 7],\n",
    "    [4, 9, 2]\n",
    "]\n",
    "\n",
    "print(is_magic_square(square))\n"
   ]
  },
  {
   "cell_type": "code",
   "execution_count": 80,
   "id": "12736259",
   "metadata": {},
   "outputs": [
    {
     "name": "stdout",
     "output_type": "stream",
     "text": [
      "0\n",
      "1\n",
      "yes\n",
      "1\n",
      "2\n",
      "yes\n",
      "2\n",
      "3\n",
      "3\n",
      "3\n",
      "4\n",
      "3\n",
      "5\n",
      "3\n"
     ]
    },
    {
     "data": {
      "text/plain": [
       "[1, 3, 5, 4, 6, 7, 8, 10]"
      ]
     },
     "execution_count": 80,
     "metadata": {},
     "output_type": "execute_result"
    }
   ],
   "source": [
    "LISTA = [1,5,6,7,8,10]\n",
    "LISTB = [2,3,4 , 9]\n",
    "pos = 0\n",
    "for i in range(0 , len(LISTA)):\n",
    "    if pos == len(LISTB)-1:\n",
    "            pos= pos\n",
    "    else:\n",
    "        pos += 1\n",
    "    print(i)\n",
    "    print(pos)\n",
    "    if LISTB[pos] >  LISTA[i] and LISTB[pos] < LISTA[i+1]:\n",
    "        \n",
    "        LISTA.insert(LISTA[i] , LISTB[pos])\n",
    "        print(\"yes\")\n",
    "        \n",
    "\n",
    "\n",
    "        \n",
    "LISTA"
   ]
  },
  {
   "cell_type": "code",
   "execution_count": null,
   "id": "d4807ecd",
   "metadata": {},
   "outputs": [],
   "source": []
  }
 ],
 "metadata": {
  "kernelspec": {
   "display_name": "Python 3 (ipykernel)",
   "language": "python",
   "name": "python3"
  },
  "language_info": {
   "codemirror_mode": {
    "name": "ipython",
    "version": 3
   },
   "file_extension": ".py",
   "mimetype": "text/x-python",
   "name": "python",
   "nbconvert_exporter": "python",
   "pygments_lexer": "ipython3",
   "version": "3.9.13"
  }
 },
 "nbformat": 4,
 "nbformat_minor": 5
}
