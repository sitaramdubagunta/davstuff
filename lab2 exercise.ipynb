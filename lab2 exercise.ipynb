{
 "cells": [
  {
   "cell_type": "markdown",
   "id": "3cc5139e",
   "metadata": {},
   "source": [
    "# program 1 Write a Python code block that inputs numbers into a list. Print \n",
    "the largest, smallest, the sum, and the average of the numbers. \n",
    "Count occurrences of a specific number in the list."
   ]
  },
  {
   "cell_type": "code",
   "execution_count": 143,
   "id": "6770d9c5",
   "metadata": {},
   "outputs": [
    {
     "name": "stdout",
     "output_type": "stream",
     "text": [
      "[1, 2, 3, 4, 5]\n",
      "smallest is  1 largest is 5  sum is  15  average is  3.0\n"
     ]
    },
    {
     "data": {
      "text/plain": [
       "1"
      ]
     },
     "execution_count": 143,
     "metadata": {},
     "output_type": "execute_result"
    }
   ],
   "source": [
    "def program1(a):\n",
    "    print(a)\n",
    "    smallest = a[0]\n",
    "    largest = a[0]\n",
    "    sum = 0\n",
    "    \n",
    "    for i in a:\n",
    "        if i < smallest:\n",
    "            smallest = i\n",
    "        elif i > largest:\n",
    "            largest = i\n",
    "        sum +=i\n",
    "    average = sum/len(a)\n",
    "    print(\"smallest is \",smallest , \"largest is\",largest,\" sum is \", sum  ,\" average is \",average )\n",
    "        \n",
    "    \n",
    "    \n",
    "    \n",
    "program1([1,2,3,4,5])\n",
    "list = [1,2,3,4,5]\n",
    "list.count(1) ##counts specific instance of an element"
   ]
  },
  {
   "cell_type": "markdown",
   "id": "e484c7ac",
   "metadata": {},
   "source": [
    "Write a Python code block to create a tuple with five elements. \n",
    "Try to change one of the elements and handle the error that \n",
    "occurs. Print a message that explains why the error occurred. "
   ]
  },
  {
   "cell_type": "code",
   "execution_count": 144,
   "id": "f41191b7",
   "metadata": {},
   "outputs": [
    {
     "name": "stdout",
     "output_type": "stream",
     "text": [
      "can't change element of a tuple\n"
     ]
    }
   ],
   "source": [
    "tup = (1,2,3,4,5)\n",
    "\n",
    "try:\n",
    "    tup[0] = 4\n",
    "except:\n",
    "    print(\"can't change element of a tuple\")\n",
    "    "
   ]
  },
  {
   "cell_type": "markdown",
   "id": "980c786a",
   "metadata": {},
   "source": [
    "Write a Python code block to create a dictionary of cricket World \n",
    "Cup winners. Let the key be the year; the value is the country that \n",
    "won the World Cup that year. Print the name of the best\n",
    "performing country.  Display the unique list of countries that \n",
    "have won the World Cup"
   ]
  },
  {
   "cell_type": "code",
   "execution_count": 189,
   "id": "687051b3",
   "metadata": {},
   "outputs": [
    {
     "name": "stdout",
     "output_type": "stream",
     "text": [
      "['india', 'russia', 'russia', 'russia', 'india']\n"
     ]
    },
    {
     "data": {
      "text/plain": [
       "{'india': 2, 'russia': 3}"
      ]
     },
     "execution_count": 189,
     "metadata": {},
     "output_type": "execute_result"
    }
   ],
   "source": [
    "dict = {2023:\"india\" , 2024:\"russia\" , 2025:\"russia\" ,2026:\"russia\" , 2027:\"india\"}\n",
    "list_countries = []\n",
    "for i in dict.values():\n",
    "    list_countries.append(i)\n",
    "hash_map = {}\n",
    "print(list_countries)\n",
    "for i in list_countries:\n",
    "    if i in hash_map:\n",
    "        hash_map[i] += 1\n",
    "    else:\n",
    "        hash_map[i] = 1\n",
    "hash_map"
   ]
  },
  {
   "cell_type": "markdown",
   "id": "7b30abfa",
   "metadata": {},
   "source": [
    "Write a Python code block that inputs a sentence from the user. \n",
    "Count the frequency of each word in the sentence and store the \n",
    "result in a dictionary. Prints the dictionary with words as keys \n",
    "and their frequencies as values."
   ]
  },
  {
   "cell_type": "code",
   "execution_count": 1,
   "id": "b2cf69e4",
   "metadata": {},
   "outputs": [
    {
     "name": "stdout",
     "output_type": "stream",
     "text": [
      "Enter a sentence: hiii my name is sitaram\n",
      "{'hiii': 1, 'my': 1, 'name': 1, 'is': 1, 'sitaram': 1}\n"
     ]
    }
   ],
   "source": [
    "\n",
    "sentence = input(\"Enter a sentence: \")\n",
    "\n",
    "\n",
    "words = sentence.split()\n",
    "\n",
    "\n",
    "word_count = {}\n",
    "\n",
    "\n",
    "for word in words:\n",
    "    word = word.lower()  \n",
    "    if word in word_count:\n",
    "        word_count[word] += 1\n",
    "    else:\n",
    "        word_count[word] = 1\n",
    "\n",
    "\n",
    "print(word_count)\n"
   ]
  },
  {
   "cell_type": "markdown",
   "id": "6794d0b9",
   "metadata": {},
   "source": [
    "Write a Python code block to input numbers into two sets.  \n",
    "Perform union, intersection, and difference operations on the sets \n",
    "and print the results."
   ]
  },
  {
   "cell_type": "code",
   "execution_count": 2,
   "id": "12a26af4",
   "metadata": {},
   "outputs": [
    {
     "name": "stdout",
     "output_type": "stream",
     "text": [
      "\n",
      "Union of set1 and set2: {1, 2, 3, 4, 5, 6, 7}\n",
      "Intersection of set1 and set2: {4, 5}\n",
      "Difference (set1 - set2): {1, 2, 3}\n",
      "Difference (set2 - set1): {6, 7}\n"
     ]
    }
   ],
   "source": [
    "\n",
    "set1 = {1,2,3,4,5}\n",
    "set2 = {4,5,6,7}\n",
    "\n",
    "union_result = set1.union(set2)\n",
    "\n",
    "\n",
    "intersection_result = set1.intersection(set2)\n",
    "\n",
    "\n",
    "difference_set1 = set1.difference(set2)\n",
    "difference_set2 = set2.difference(set1)\n",
    "\n",
    "\n",
    "print(\"\\nUnion of set1 and set2:\", union_result)\n",
    "print(\"Intersection of set1 and set2:\", intersection_result)\n",
    "print(\"Difference (set1 - set2):\", difference_set1)\n",
    "print(\"Difference (set2 - set1):\", difference_set2)\n"
   ]
  },
  {
   "cell_type": "code",
   "execution_count": null,
   "id": "41848873",
   "metadata": {},
   "outputs": [],
   "source": []
  }
 ],
 "metadata": {
  "kernelspec": {
   "display_name": "Python 3 (ipykernel)",
   "language": "python",
   "name": "python3"
  },
  "language_info": {
   "codemirror_mode": {
    "name": "ipython",
    "version": 3
   },
   "file_extension": ".py",
   "mimetype": "text/x-python",
   "name": "python",
   "nbconvert_exporter": "python",
   "pygments_lexer": "ipython3",
   "version": "3.9.13"
  }
 },
 "nbformat": 4,
 "nbformat_minor": 5
}
